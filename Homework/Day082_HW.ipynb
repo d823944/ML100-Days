{
  "nbformat": 4,
  "nbformat_minor": 0,
  "metadata": {
    "colab": {
      "name": "Day082_HW.ipynb",
      "version": "0.3.2",
      "provenance": [],
      "collapsed_sections": [],
      "include_colab_link": true
    },
    "kernelspec": {
      "name": "python3",
      "display_name": "Python 3"
    },
    "accelerator": "GPU"
  },
  "cells": [
    {
      "cell_type": "markdown",
      "metadata": {
        "id": "view-in-github",
        "colab_type": "text"
      },
      "source": [
        "<a href=\"https://colab.research.google.com/github/d823944/ML100-Days/blob/master/Homework/Day082_HW.ipynb\" target=\"_parent\"><img src=\"https://colab.research.google.com/assets/colab-badge.svg\" alt=\"Open In Colab\"/></a>"
      ]
    },
    {
      "metadata": {
        "id": "di2plXoCxgpH",
        "colab_type": "text"
      },
      "cell_type": "markdown",
      "source": [
        "## Work\n",
        "1. 請比較使用不同層數以及不同 Dropout rate 對訓練的效果\n",
        "2. 將 optimizer 改成使用 Adam 並加上適當的 dropout rate 檢視結果"
      ]
    },
    {
      "metadata": {
        "id": "nETBRIwFxXl3",
        "colab_type": "code",
        "colab": {
          "base_uri": "https://localhost:8080/",
          "height": 34
        },
        "outputId": "ad9b9a95-9be2-4372-972b-563a50c7368d"
      },
      "cell_type": "code",
      "source": [
        "# Check GPU\n",
        "import tensorflow as tf\n",
        "tf.test.gpu_device_name()"
      ],
      "execution_count": 1,
      "outputs": [
        {
          "output_type": "execute_result",
          "data": {
            "text/plain": [
              "'/device:GPU:0'"
            ]
          },
          "metadata": {
            "tags": []
          },
          "execution_count": 1
        }
      ]
    },
    {
      "metadata": {
        "id": "znwp7Nqixk40",
        "colab_type": "code",
        "colab": {
          "base_uri": "https://localhost:8080/",
          "height": 34
        },
        "outputId": "3d55fa79-9835-4366-c346-322f38ebd0b8"
      },
      "cell_type": "code",
      "source": [
        "import keras\n",
        "train, test = keras.datasets.cifar10.load_data()"
      ],
      "execution_count": 2,
      "outputs": [
        {
          "output_type": "stream",
          "text": [
            "Using TensorFlow backend.\n"
          ],
          "name": "stderr"
        }
      ]
    },
    {
      "metadata": {
        "id": "S1og_VC4xmrp",
        "colab_type": "code",
        "colab": {}
      },
      "cell_type": "code",
      "source": [
        "## 資料前處理\n",
        "def preproc_x(x, flatten=True):\n",
        "    x = x / 255.\n",
        "    if flatten:\n",
        "        x = x.reshape((len(x), -1))\n",
        "    return x\n",
        "\n",
        "def preproc_y(y, num_classes=10):\n",
        "    if y.shape[-1] == 1:\n",
        "        y = keras.utils.to_categorical(y, num_classes)\n",
        "    return y    "
      ],
      "execution_count": 0,
      "outputs": []
    },
    {
      "metadata": {
        "id": "ETpY-3l-xoBr",
        "colab_type": "code",
        "colab": {}
      },
      "cell_type": "code",
      "source": [
        "x_train, y_train = train\n",
        "x_test, y_test = test\n",
        "\n",
        "# Preproc the inputs\n",
        "x_train = preproc_x(x_train)\n",
        "x_test = preproc_x(x_test)\n",
        "\n",
        "# Preprc the outputs\n",
        "y_train = preproc_y(y_train)\n",
        "y_test = preproc_y(y_test)"
      ],
      "execution_count": 0,
      "outputs": []
    },
    {
      "metadata": {
        "id": "ljqe-_5hxtQS",
        "colab_type": "code",
        "colab": {}
      },
      "cell_type": "code",
      "source": [
        "from keras.layers import Dropout\n",
        "\n",
        "def build_mlp(input_shape, output_units=10, num_neurons=[512, 256, 128, 64], drp_ratio=0.2):\n",
        "    input_layer = keras.layers.Input(input_shape)\n",
        "    \n",
        "    for i, n_units in enumerate(num_neurons):\n",
        "        if i == 0:\n",
        "            x = keras.layers.Dense(units=n_units, \n",
        "                                   activation=\"relu\", \n",
        "                                   name=\"hidden_layer\"+str(i+1))(input_layer)\n",
        "            x = Dropout(drp_ratio)(x)\n",
        "        else:\n",
        "            x = keras.layers.Dense(units=n_units, \n",
        "                                   activation=\"relu\", \n",
        "                                   name=\"hidden_layer\"+str(i+1))(x)\n",
        "            x = Dropout(drp_ratio)(x)\n",
        "    \n",
        "    out = keras.layers.Dense(units=output_units, activation=\"softmax\", name=\"output\")(x)\n",
        "    \n",
        "    model = keras.models.Model(inputs=[input_layer], outputs=[out])\n",
        "    return model\n"
      ],
      "execution_count": 0,
      "outputs": []
    },
    {
      "metadata": {
        "id": "JcgfeOPHyDdN",
        "colab_type": "code",
        "colab": {}
      },
      "cell_type": "code",
      "source": [
        "## 超參數設定\n",
        "LEARNING_RATE = 1e-3\n",
        "EPOCHS = 50\n",
        "BATCH_SIZE = 256\n",
        "MOMENTUM = 0.95\n",
        "Dropout_EXP = 0.2"
      ],
      "execution_count": 0,
      "outputs": []
    },
    {
      "metadata": {
        "id": "U7n9on_zyG_w",
        "colab_type": "code",
        "colab": {
          "base_uri": "https://localhost:8080/",
          "height": 2312
        },
        "outputId": "37c4620c-e74c-4457-e51a-6de8ac712a98"
      },
      "cell_type": "code",
      "source": [
        "model = build_mlp(input_shape=x_train.shape[1:], drp_ratio=Dropout_EXP)\n",
        "model.summary()\n",
        "optimizer = keras.optimizers.SGD(lr=LEARNING_RATE, nesterov=True, momentum=MOMENTUM)\n",
        "model.compile(loss=\"categorical_crossentropy\", metrics=[\"accuracy\"], optimizer=optimizer)\n",
        "\n",
        "model.fit(x_train, y_train, \n",
        "          epochs=EPOCHS, \n",
        "          batch_size=BATCH_SIZE, \n",
        "          validation_data=(x_test, y_test), \n",
        "          shuffle=True)\n",
        "\n",
        "# Collect results\n",
        "train_loss = model.history.history[\"loss\"]\n",
        "valid_loss = model.history.history[\"val_loss\"]\n",
        "train_acc = model.history.history[\"acc\"]\n",
        "valid_acc = model.history.history[\"val_acc\"]"
      ],
      "execution_count": 10,
      "outputs": [
        {
          "output_type": "stream",
          "text": [
            "_________________________________________________________________\n",
            "Layer (type)                 Output Shape              Param #   \n",
            "=================================================================\n",
            "input_2 (InputLayer)         (None, 3072)              0         \n",
            "_________________________________________________________________\n",
            "hidden_layer1 (Dense)        (None, 512)               1573376   \n",
            "_________________________________________________________________\n",
            "dropout_5 (Dropout)          (None, 512)               0         \n",
            "_________________________________________________________________\n",
            "hidden_layer2 (Dense)        (None, 256)               131328    \n",
            "_________________________________________________________________\n",
            "dropout_6 (Dropout)          (None, 256)               0         \n",
            "_________________________________________________________________\n",
            "hidden_layer3 (Dense)        (None, 128)               32896     \n",
            "_________________________________________________________________\n",
            "dropout_7 (Dropout)          (None, 128)               0         \n",
            "_________________________________________________________________\n",
            "hidden_layer4 (Dense)        (None, 64)                8256      \n",
            "_________________________________________________________________\n",
            "dropout_8 (Dropout)          (None, 64)                0         \n",
            "_________________________________________________________________\n",
            "output (Dense)               (None, 10)                650       \n",
            "=================================================================\n",
            "Total params: 1,746,506\n",
            "Trainable params: 1,746,506\n",
            "Non-trainable params: 0\n",
            "_________________________________________________________________\n",
            "Train on 50000 samples, validate on 10000 samples\n",
            "Epoch 1/50\n",
            "50000/50000 [==============================] - 5s 102us/step - loss: 2.2415 - acc: 0.1648 - val_loss: 2.0837 - val_acc: 0.2665\n",
            "Epoch 2/50\n",
            "50000/50000 [==============================] - 4s 83us/step - loss: 2.0709 - acc: 0.2369 - val_loss: 1.9257 - val_acc: 0.3187\n",
            "Epoch 3/50\n",
            "50000/50000 [==============================] - 4s 85us/step - loss: 1.9683 - acc: 0.2781 - val_loss: 1.8443 - val_acc: 0.3487\n",
            "Epoch 4/50\n",
            "50000/50000 [==============================] - 4s 83us/step - loss: 1.9091 - acc: 0.3051 - val_loss: 1.7949 - val_acc: 0.3656\n",
            "Epoch 5/50\n",
            "50000/50000 [==============================] - 4s 83us/step - loss: 1.8613 - acc: 0.3262 - val_loss: 1.7522 - val_acc: 0.3812\n",
            "Epoch 6/50\n",
            "50000/50000 [==============================] - 4s 83us/step - loss: 1.8268 - acc: 0.3407 - val_loss: 1.7095 - val_acc: 0.3971\n",
            "Epoch 7/50\n",
            "50000/50000 [==============================] - 4s 83us/step - loss: 1.7936 - acc: 0.3525 - val_loss: 1.6841 - val_acc: 0.4051\n",
            "Epoch 8/50\n",
            "50000/50000 [==============================] - 4s 83us/step - loss: 1.7643 - acc: 0.3668 - val_loss: 1.6490 - val_acc: 0.4159\n",
            "Epoch 9/50\n",
            "50000/50000 [==============================] - 4s 80us/step - loss: 1.7398 - acc: 0.3757 - val_loss: 1.6234 - val_acc: 0.4252\n",
            "Epoch 10/50\n",
            "50000/50000 [==============================] - 4s 83us/step - loss: 1.7187 - acc: 0.3866 - val_loss: 1.6033 - val_acc: 0.4322\n",
            "Epoch 11/50\n",
            "50000/50000 [==============================] - 4s 81us/step - loss: 1.6945 - acc: 0.3916 - val_loss: 1.5792 - val_acc: 0.4371\n",
            "Epoch 12/50\n",
            "50000/50000 [==============================] - 4s 82us/step - loss: 1.6759 - acc: 0.4002 - val_loss: 1.5631 - val_acc: 0.4425\n",
            "Epoch 13/50\n",
            "50000/50000 [==============================] - 4s 86us/step - loss: 1.6534 - acc: 0.4099 - val_loss: 1.5507 - val_acc: 0.4485\n",
            "Epoch 14/50\n",
            "50000/50000 [==============================] - 4s 85us/step - loss: 1.6420 - acc: 0.4129 - val_loss: 1.5372 - val_acc: 0.4509\n",
            "Epoch 15/50\n",
            "50000/50000 [==============================] - 4s 84us/step - loss: 1.6190 - acc: 0.4211 - val_loss: 1.5271 - val_acc: 0.4580\n",
            "Epoch 16/50\n",
            "50000/50000 [==============================] - 4s 81us/step - loss: 1.6066 - acc: 0.4287 - val_loss: 1.5196 - val_acc: 0.4591\n",
            "Epoch 17/50\n",
            "50000/50000 [==============================] - 4s 82us/step - loss: 1.5930 - acc: 0.4320 - val_loss: 1.4983 - val_acc: 0.4680\n",
            "Epoch 18/50\n",
            "50000/50000 [==============================] - 4s 83us/step - loss: 1.5771 - acc: 0.4360 - val_loss: 1.4981 - val_acc: 0.4663\n",
            "Epoch 19/50\n",
            "50000/50000 [==============================] - 4s 81us/step - loss: 1.5633 - acc: 0.4420 - val_loss: 1.4744 - val_acc: 0.4746\n",
            "Epoch 20/50\n",
            "50000/50000 [==============================] - 4s 83us/step - loss: 1.5511 - acc: 0.4449 - val_loss: 1.4614 - val_acc: 0.4801\n",
            "Epoch 21/50\n",
            "50000/50000 [==============================] - 4s 82us/step - loss: 1.5393 - acc: 0.4496 - val_loss: 1.4502 - val_acc: 0.4834\n",
            "Epoch 22/50\n",
            "50000/50000 [==============================] - 4s 84us/step - loss: 1.5284 - acc: 0.4547 - val_loss: 1.4472 - val_acc: 0.4850\n",
            "Epoch 23/50\n",
            "50000/50000 [==============================] - 4s 85us/step - loss: 1.5168 - acc: 0.4629 - val_loss: 1.4451 - val_acc: 0.4798\n",
            "Epoch 24/50\n",
            "50000/50000 [==============================] - 4s 83us/step - loss: 1.5024 - acc: 0.4646 - val_loss: 1.4373 - val_acc: 0.4843\n",
            "Epoch 25/50\n",
            "50000/50000 [==============================] - 4s 84us/step - loss: 1.4925 - acc: 0.4703 - val_loss: 1.4216 - val_acc: 0.4933\n",
            "Epoch 26/50\n",
            "50000/50000 [==============================] - 4s 83us/step - loss: 1.4842 - acc: 0.4719 - val_loss: 1.4222 - val_acc: 0.4900\n",
            "Epoch 27/50\n",
            "50000/50000 [==============================] - 4s 80us/step - loss: 1.4755 - acc: 0.4759 - val_loss: 1.4134 - val_acc: 0.4954\n",
            "Epoch 28/50\n",
            "50000/50000 [==============================] - 4s 81us/step - loss: 1.4688 - acc: 0.4785 - val_loss: 1.4066 - val_acc: 0.5008\n",
            "Epoch 29/50\n",
            "50000/50000 [==============================] - 4s 84us/step - loss: 1.4584 - acc: 0.4812 - val_loss: 1.4015 - val_acc: 0.4985\n",
            "Epoch 30/50\n",
            "50000/50000 [==============================] - 4s 82us/step - loss: 1.4440 - acc: 0.4859 - val_loss: 1.3882 - val_acc: 0.5023\n",
            "Epoch 31/50\n",
            "50000/50000 [==============================] - 4s 84us/step - loss: 1.4368 - acc: 0.4875 - val_loss: 1.4013 - val_acc: 0.4982\n",
            "Epoch 32/50\n",
            "50000/50000 [==============================] - 4s 83us/step - loss: 1.4270 - acc: 0.4925 - val_loss: 1.3901 - val_acc: 0.5000\n",
            "Epoch 33/50\n",
            "50000/50000 [==============================] - 4s 84us/step - loss: 1.4208 - acc: 0.4953 - val_loss: 1.3834 - val_acc: 0.5080\n",
            "Epoch 34/50\n",
            "50000/50000 [==============================] - 3s 65us/step - loss: 1.4118 - acc: 0.4953 - val_loss: 1.3778 - val_acc: 0.5083\n",
            "Epoch 35/50\n",
            "50000/50000 [==============================] - 4s 83us/step - loss: 1.4043 - acc: 0.5007 - val_loss: 1.3722 - val_acc: 0.5081\n",
            "Epoch 36/50\n",
            "50000/50000 [==============================] - 4s 83us/step - loss: 1.3994 - acc: 0.5044 - val_loss: 1.3665 - val_acc: 0.5126\n",
            "Epoch 37/50\n",
            "50000/50000 [==============================] - 4s 82us/step - loss: 1.3859 - acc: 0.5060 - val_loss: 1.3621 - val_acc: 0.5118\n",
            "Epoch 38/50\n",
            "50000/50000 [==============================] - 4s 83us/step - loss: 1.3783 - acc: 0.5106 - val_loss: 1.3553 - val_acc: 0.5161\n",
            "Epoch 39/50\n",
            "50000/50000 [==============================] - 4s 82us/step - loss: 1.3746 - acc: 0.5107 - val_loss: 1.3576 - val_acc: 0.5159\n",
            "Epoch 40/50\n",
            "50000/50000 [==============================] - 4s 85us/step - loss: 1.3687 - acc: 0.5118 - val_loss: 1.3606 - val_acc: 0.5116\n",
            "Epoch 41/50\n",
            "50000/50000 [==============================] - 4s 84us/step - loss: 1.3567 - acc: 0.5157 - val_loss: 1.3617 - val_acc: 0.5108\n",
            "Epoch 42/50\n",
            "50000/50000 [==============================] - 4s 81us/step - loss: 1.3532 - acc: 0.5177 - val_loss: 1.3506 - val_acc: 0.5205\n",
            "Epoch 43/50\n",
            "50000/50000 [==============================] - 4s 84us/step - loss: 1.3429 - acc: 0.5206 - val_loss: 1.3466 - val_acc: 0.5185\n",
            "Epoch 44/50\n",
            "50000/50000 [==============================] - 4s 83us/step - loss: 1.3285 - acc: 0.5278 - val_loss: 1.3328 - val_acc: 0.5226\n",
            "Epoch 45/50\n",
            "50000/50000 [==============================] - 4s 81us/step - loss: 1.3306 - acc: 0.5231 - val_loss: 1.3405 - val_acc: 0.5236\n",
            "Epoch 46/50\n",
            "50000/50000 [==============================] - 4s 82us/step - loss: 1.3206 - acc: 0.5311 - val_loss: 1.3311 - val_acc: 0.5225\n",
            "Epoch 47/50\n",
            "50000/50000 [==============================] - 4s 80us/step - loss: 1.3164 - acc: 0.5295 - val_loss: 1.3448 - val_acc: 0.5206\n",
            "Epoch 48/50\n",
            "50000/50000 [==============================] - 4s 80us/step - loss: 1.3146 - acc: 0.5325 - val_loss: 1.3334 - val_acc: 0.5225\n",
            "Epoch 49/50\n",
            "50000/50000 [==============================] - 4s 81us/step - loss: 1.3015 - acc: 0.5363 - val_loss: 1.3237 - val_acc: 0.5308\n",
            "Epoch 50/50\n",
            "50000/50000 [==============================] - 4s 79us/step - loss: 1.2989 - acc: 0.5361 - val_loss: 1.3400 - val_acc: 0.5224\n"
          ],
          "name": "stdout"
        }
      ]
    },
    {
      "metadata": {
        "id": "M7boMr_EyIyO",
        "colab_type": "code",
        "colab": {
          "base_uri": "https://localhost:8080/",
          "height": 543
        },
        "outputId": "5377eaf7-28f2-4628-e137-a823fed98ca6"
      },
      "cell_type": "code",
      "source": [
        "import matplotlib.pyplot as plt\n",
        "%matplotlib inline\n",
        "\n",
        "plt.plot(range(len(train_loss)), train_loss, label=\"train loss\")\n",
        "plt.plot(range(len(valid_loss)), valid_loss, label=\"valid loss\")\n",
        "plt.legend()\n",
        "plt.title(\"Loss\")\n",
        "plt.show()\n",
        "\n",
        "plt.plot(range(len(train_acc)), train_acc, label=\"train accuracy\")\n",
        "plt.plot(range(len(valid_acc)), valid_acc, label=\"valid accuracy\")\n",
        "plt.legend()\n",
        "plt.title(\"Accuracy\")\n",
        "plt.show()"
      ],
      "execution_count": 11,
      "outputs": [
        {
          "output_type": "display_data",
          "data": {
            "image/png": "[encoded data removed]",
            "text/plain": [
              "<Figure size 432x288 with 1 Axes>"
            ]
          },
          "metadata": {
            "tags": []
          }
        },
        {
          "output_type": "display_data",
          "data": {
            "image/png": "[encoded data removed]",
            "text/plain": [
              "<Figure size 432x288 with 1 Axes>"
            ]
          },
          "metadata": {
            "tags": []
          }
        }
      ]
    },
    {
      "metadata": {
        "id": "KYezfsRnzRdb",
        "colab_type": "code",
        "colab": {
          "base_uri": "https://localhost:8080/",
          "height": 2312
        },
        "outputId": "7f6f7baa-5be1-468b-cad4-3e181a6442d2"
      },
      "cell_type": "code",
      "source": [
        "Dropout_EXP = 0.2\n",
        "model = build_mlp(input_shape=x_train.shape[1:], drp_ratio=Dropout_EXP)\n",
        "model.summary()\n",
        "model.compile(loss=\"categorical_crossentropy\", metrics=[\"accuracy\"], optimizer='adam')\n",
        "\n",
        "model.fit(x_train, y_train, \n",
        "          epochs=EPOCHS, \n",
        "          batch_size=BATCH_SIZE, \n",
        "          validation_data=(x_test, y_test), \n",
        "          shuffle=True)\n",
        "\n",
        "# Collect results\n",
        "train_loss = model.history.history[\"loss\"]\n",
        "valid_loss = model.history.history[\"val_loss\"]\n",
        "train_acc = model.history.history[\"acc\"]\n",
        "valid_acc = model.history.history[\"val_acc\"]"
      ],
      "execution_count": 12,
      "outputs": [
        {
          "output_type": "stream",
          "text": [
            "_________________________________________________________________\n",
            "Layer (type)                 Output Shape              Param #   \n",
            "=================================================================\n",
            "input_3 (InputLayer)         (None, 3072)              0         \n",
            "_________________________________________________________________\n",
            "hidden_layer1 (Dense)        (None, 512)               1573376   \n",
            "_________________________________________________________________\n",
            "dropout_9 (Dropout)          (None, 512)               0         \n",
            "_________________________________________________________________\n",
            "hidden_layer2 (Dense)        (None, 256)               131328    \n",
            "_________________________________________________________________\n",
            "dropout_10 (Dropout)         (None, 256)               0         \n",
            "_________________________________________________________________\n",
            "hidden_layer3 (Dense)        (None, 128)               32896     \n",
            "_________________________________________________________________\n",
            "dropout_11 (Dropout)         (None, 128)               0         \n",
            "_________________________________________________________________\n",
            "hidden_layer4 (Dense)        (None, 64)                8256      \n",
            "_________________________________________________________________\n",
            "dropout_12 (Dropout)         (None, 64)                0         \n",
            "_________________________________________________________________\n",
            "output (Dense)               (None, 10)                650       \n",
            "=================================================================\n",
            "Total params: 1,746,506\n",
            "Trainable params: 1,746,506\n",
            "Non-trainable params: 0\n",
            "_________________________________________________________________\n",
            "Train on 50000 samples, validate on 10000 samples\n",
            "Epoch 1/50\n",
            "50000/50000 [==============================] - 3s 67us/step - loss: 2.1278 - acc: 0.1937 - val_loss: 1.8973 - val_acc: 0.3126\n",
            "Epoch 2/50\n",
            "50000/50000 [==============================] - 3s 56us/step - loss: 1.9205 - acc: 0.2975 - val_loss: 1.8006 - val_acc: 0.3443\n",
            "Epoch 3/50\n",
            "50000/50000 [==============================] - 3s 56us/step - loss: 1.8488 - acc: 0.3304 - val_loss: 1.7418 - val_acc: 0.3781\n",
            "Epoch 4/50\n",
            "50000/50000 [==============================] - 3s 55us/step - loss: 1.8040 - acc: 0.3484 - val_loss: 1.7005 - val_acc: 0.3936\n",
            "Epoch 5/50\n",
            "50000/50000 [==============================] - 3s 55us/step - loss: 1.7712 - acc: 0.3594 - val_loss: 1.6439 - val_acc: 0.4096\n",
            "Epoch 6/50\n",
            "50000/50000 [==============================] - 3s 55us/step - loss: 1.7366 - acc: 0.3726 - val_loss: 1.6399 - val_acc: 0.4208\n",
            "Epoch 7/50\n",
            "50000/50000 [==============================] - 3s 54us/step - loss: 1.7176 - acc: 0.3820 - val_loss: 1.6110 - val_acc: 0.4300\n",
            "Epoch 8/50\n",
            "50000/50000 [==============================] - 3s 55us/step - loss: 1.6990 - acc: 0.3914 - val_loss: 1.6091 - val_acc: 0.4275\n",
            "Epoch 9/50\n",
            "50000/50000 [==============================] - 3s 54us/step - loss: 1.6747 - acc: 0.3985 - val_loss: 1.6168 - val_acc: 0.4229\n",
            "Epoch 10/50\n",
            "50000/50000 [==============================] - 3s 54us/step - loss: 1.6646 - acc: 0.4032 - val_loss: 1.5635 - val_acc: 0.4432\n",
            "Epoch 11/50\n",
            "50000/50000 [==============================] - 3s 54us/step - loss: 1.6461 - acc: 0.4101 - val_loss: 1.5613 - val_acc: 0.4422\n",
            "Epoch 12/50\n",
            "50000/50000 [==============================] - 3s 54us/step - loss: 1.6307 - acc: 0.4144 - val_loss: 1.5811 - val_acc: 0.4450\n",
            "Epoch 13/50\n",
            "50000/50000 [==============================] - 3s 54us/step - loss: 1.6262 - acc: 0.4168 - val_loss: 1.5389 - val_acc: 0.4555\n",
            "Epoch 14/50\n",
            "50000/50000 [==============================] - 3s 54us/step - loss: 1.6063 - acc: 0.4260 - val_loss: 1.5294 - val_acc: 0.4549\n",
            "Epoch 15/50\n",
            "50000/50000 [==============================] - 3s 55us/step - loss: 1.6000 - acc: 0.4255 - val_loss: 1.5434 - val_acc: 0.4468\n",
            "Epoch 16/50\n",
            "50000/50000 [==============================] - 3s 54us/step - loss: 1.5894 - acc: 0.4316 - val_loss: 1.5187 - val_acc: 0.4608\n",
            "Epoch 17/50\n",
            "50000/50000 [==============================] - 3s 55us/step - loss: 1.5778 - acc: 0.4364 - val_loss: 1.5225 - val_acc: 0.4650\n",
            "Epoch 18/50\n",
            "50000/50000 [==============================] - 3s 54us/step - loss: 1.5655 - acc: 0.4375 - val_loss: 1.4893 - val_acc: 0.4693\n",
            "Epoch 19/50\n",
            "50000/50000 [==============================] - 3s 54us/step - loss: 1.5607 - acc: 0.4405 - val_loss: 1.5003 - val_acc: 0.4673\n",
            "Epoch 20/50\n",
            "50000/50000 [==============================] - 3s 54us/step - loss: 1.5498 - acc: 0.4436 - val_loss: 1.5021 - val_acc: 0.4661\n",
            "Epoch 21/50\n",
            "50000/50000 [==============================] - 3s 54us/step - loss: 1.5479 - acc: 0.4462 - val_loss: 1.4870 - val_acc: 0.4715\n",
            "Epoch 22/50\n",
            "50000/50000 [==============================] - 3s 54us/step - loss: 1.5465 - acc: 0.4460 - val_loss: 1.4876 - val_acc: 0.4696\n",
            "Epoch 23/50\n",
            "50000/50000 [==============================] - 3s 53us/step - loss: 1.5419 - acc: 0.4454 - val_loss: 1.4791 - val_acc: 0.4753\n",
            "Epoch 24/50\n",
            "50000/50000 [==============================] - 3s 54us/step - loss: 1.5282 - acc: 0.4543 - val_loss: 1.4590 - val_acc: 0.4822\n",
            "Epoch 25/50\n",
            "50000/50000 [==============================] - 3s 54us/step - loss: 1.5238 - acc: 0.4572 - val_loss: 1.4586 - val_acc: 0.4749\n",
            "Epoch 26/50\n",
            "50000/50000 [==============================] - 3s 54us/step - loss: 1.5222 - acc: 0.4556 - val_loss: 1.4682 - val_acc: 0.4777\n",
            "Epoch 27/50\n",
            "50000/50000 [==============================] - 3s 54us/step - loss: 1.5094 - acc: 0.4613 - val_loss: 1.4626 - val_acc: 0.4800\n",
            "Epoch 28/50\n",
            "50000/50000 [==============================] - 3s 53us/step - loss: 1.5098 - acc: 0.4610 - val_loss: 1.4494 - val_acc: 0.4836\n",
            "Epoch 29/50\n",
            "50000/50000 [==============================] - 3s 54us/step - loss: 1.5014 - acc: 0.4624 - val_loss: 1.4626 - val_acc: 0.4850\n",
            "Epoch 30/50\n",
            "50000/50000 [==============================] - 3s 54us/step - loss: 1.4997 - acc: 0.4626 - val_loss: 1.4459 - val_acc: 0.4828\n",
            "Epoch 31/50\n",
            "50000/50000 [==============================] - 3s 54us/step - loss: 1.5011 - acc: 0.4634 - val_loss: 1.4691 - val_acc: 0.4749\n",
            "Epoch 32/50\n",
            "50000/50000 [==============================] - 3s 53us/step - loss: 1.4933 - acc: 0.4651 - val_loss: 1.4341 - val_acc: 0.4935\n",
            "Epoch 33/50\n",
            "50000/50000 [==============================] - 3s 53us/step - loss: 1.4808 - acc: 0.4700 - val_loss: 1.4510 - val_acc: 0.4873\n",
            "Epoch 34/50\n",
            "50000/50000 [==============================] - 3s 54us/step - loss: 1.4794 - acc: 0.4687 - val_loss: 1.4628 - val_acc: 0.4812\n",
            "Epoch 35/50\n",
            "50000/50000 [==============================] - 3s 54us/step - loss: 1.4735 - acc: 0.4713 - val_loss: 1.4468 - val_acc: 0.4830\n",
            "Epoch 36/50\n",
            "50000/50000 [==============================] - 3s 54us/step - loss: 1.4731 - acc: 0.4730 - val_loss: 1.4311 - val_acc: 0.4919\n",
            "Epoch 37/50\n",
            "50000/50000 [==============================] - 3s 54us/step - loss: 1.4668 - acc: 0.4749 - val_loss: 1.4336 - val_acc: 0.4914\n",
            "Epoch 38/50\n",
            "50000/50000 [==============================] - 3s 53us/step - loss: 1.4614 - acc: 0.4774 - val_loss: 1.4171 - val_acc: 0.4954\n",
            "Epoch 39/50\n",
            "50000/50000 [==============================] - 3s 54us/step - loss: 1.4549 - acc: 0.4808 - val_loss: 1.4192 - val_acc: 0.4939\n",
            "Epoch 40/50\n",
            "50000/50000 [==============================] - 3s 54us/step - loss: 1.4578 - acc: 0.4785 - val_loss: 1.4426 - val_acc: 0.4851\n",
            "Epoch 41/50\n",
            "50000/50000 [==============================] - 3s 53us/step - loss: 1.4475 - acc: 0.4839 - val_loss: 1.4123 - val_acc: 0.4968\n",
            "Epoch 42/50\n",
            "50000/50000 [==============================] - 3s 54us/step - loss: 1.4456 - acc: 0.4830 - val_loss: 1.4117 - val_acc: 0.5011\n",
            "Epoch 43/50\n",
            "50000/50000 [==============================] - 3s 53us/step - loss: 1.4439 - acc: 0.4840 - val_loss: 1.4148 - val_acc: 0.4974\n",
            "Epoch 44/50\n",
            "50000/50000 [==============================] - 3s 53us/step - loss: 1.4421 - acc: 0.4830 - val_loss: 1.4005 - val_acc: 0.5004\n",
            "Epoch 45/50\n",
            "50000/50000 [==============================] - 3s 53us/step - loss: 1.4383 - acc: 0.4861 - val_loss: 1.4382 - val_acc: 0.4896\n",
            "Epoch 46/50\n",
            "50000/50000 [==============================] - 3s 53us/step - loss: 1.4340 - acc: 0.4866 - val_loss: 1.4267 - val_acc: 0.4898\n",
            "Epoch 47/50\n",
            "50000/50000 [==============================] - 3s 54us/step - loss: 1.4255 - acc: 0.4911 - val_loss: 1.4103 - val_acc: 0.5031\n",
            "Epoch 48/50\n",
            "50000/50000 [==============================] - 3s 53us/step - loss: 1.4251 - acc: 0.4912 - val_loss: 1.4120 - val_acc: 0.4977\n",
            "Epoch 49/50\n",
            "50000/50000 [==============================] - 3s 54us/step - loss: 1.4262 - acc: 0.4902 - val_loss: 1.4177 - val_acc: 0.4975\n",
            "Epoch 50/50\n",
            "50000/50000 [==============================] - 3s 53us/step - loss: 1.4231 - acc: 0.4933 - val_loss: 1.4278 - val_acc: 0.4951\n"
          ],
          "name": "stdout"
        }
      ]
    },
    {
      "metadata": {
        "id": "PDnEtgEm37oA",
        "colab_type": "code",
        "colab": {
          "base_uri": "https://localhost:8080/",
          "height": 543
        },
        "outputId": "dc806de1-fa5f-4a0b-9713-d0d47fc9fd46"
      },
      "cell_type": "code",
      "source": [
        "import matplotlib.pyplot as plt\n",
        "%matplotlib inline\n",
        "\n",
        "plt.plot(range(len(train_loss)), train_loss, label=\"train loss\")\n",
        "plt.plot(range(len(valid_loss)), valid_loss, label=\"valid loss\")\n",
        "plt.legend()\n",
        "plt.title(\"Loss\")\n",
        "plt.show()\n",
        "\n",
        "plt.plot(range(len(train_acc)), train_acc, label=\"train accuracy\")\n",
        "plt.plot(range(len(valid_acc)), valid_acc, label=\"valid accuracy\")\n",
        "plt.legend()\n",
        "plt.title(\"Accuracy\")\n",
        "plt.show()"
      ],
      "execution_count": 13,
      "outputs": [
        {
          "output_type": "display_data",
          "data": {
            "image/png": "[encoded data removed]",
            "text/plain": [
              "<Figure size 432x288 with 1 Axes>"
            ]
          },
          "metadata": {
            "tags": []
          }
        },
        {
          "output_type": "display_data",
          "data": {
            "image/png": "[encoded data removed]",
            "text/plain": [
              "<Figure size 432x288 with 1 Axes>"
            ]
          },
          "metadata": {
            "tags": []
          }
        }
      ]
    },
    {
      "metadata": {
        "id": "GwgrZ47f3-N9",
        "colab_type": "code",
        "colab": {}
      },
      "cell_type": "code",
      "source": [
        ""
      ],
      "execution_count": 0,
      "outputs": []
    }
  ]
}