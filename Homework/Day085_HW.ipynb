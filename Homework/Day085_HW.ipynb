{
  "nbformat": 4,
  "nbformat_minor": 0,
  "metadata": {
    "colab": {
      "name": "Day085_HW.ipynb",
      "version": "0.3.2",
      "provenance": [],
      "collapsed_sections": [],
      "include_colab_link": true
    },
    "kernelspec": {
      "name": "python3",
      "display_name": "Python 3"
    },
    "accelerator": "GPU"
  },
  "cells": [
    {
      "cell_type": "markdown",
      "metadata": {
        "id": "view-in-github",
        "colab_type": "text"
      },
      "source": [
        "<a href=\"https://colab.research.google.com/github/d823944/ML100-Days/blob/master/Homework/Day085_HW.ipynb\" target=\"_parent\"><img src=\"https://colab.research.google.com/assets/colab-badge.svg\" alt=\"Open In Colab\"/></a>"
      ]
    },
    {
      "metadata": {
        "id": "lJaFdelHC6v5",
        "colab_type": "text"
      },
      "cell_type": "markdown",
      "source": [
        "## Work\n",
        "1. 試改變 monitor \"Validation Accuracy\" 並比較結果\n",
        "2. 調整 earlystop 的等待次數至 10, 25 並比較結果"
      ]
    },
    {
      "metadata": {
        "id": "UKLo6hOqCzFN",
        "colab_type": "code",
        "colab": {
          "base_uri": "https://localhost:8080/",
          "height": 52
        },
        "outputId": "0885ccdd-2dc0-484b-d519-2c5e27815564"
      },
      "cell_type": "code",
      "source": [
        "import os\n",
        "import keras\n",
        "import matplotlib.pyplot as plt\n",
        "%matplotlib inline\n",
        "\n",
        "# Check GPU\n",
        "import tensorflow as tf\n",
        "tf.test.gpu_device_name()"
      ],
      "execution_count": 1,
      "outputs": [
        {
          "output_type": "stream",
          "text": [
            "Using TensorFlow backend.\n"
          ],
          "name": "stderr"
        },
        {
          "output_type": "execute_result",
          "data": {
            "text/plain": [
              "'/device:GPU:0'"
            ]
          },
          "metadata": {
            "tags": []
          },
          "execution_count": 1
        }
      ]
    },
    {
      "metadata": {
        "id": "IswxU0YjC_EG",
        "colab_type": "code",
        "colab": {}
      },
      "cell_type": "code",
      "source": [
        "train, test = keras.datasets.cifar10.load_data()"
      ],
      "execution_count": 0,
      "outputs": []
    },
    {
      "metadata": {
        "id": "HRl4gtDpDA3R",
        "colab_type": "code",
        "colab": {}
      },
      "cell_type": "code",
      "source": [
        "## 資料前處理\n",
        "def preproc_x(x, flatten=True):\n",
        "    x = x / 255.\n",
        "    if flatten:\n",
        "        x = x.reshape((len(x), -1))\n",
        "    return x\n",
        "\n",
        "def preproc_y(y, num_classes=10):\n",
        "    if y.shape[-1] == 1:\n",
        "        y = keras.utils.to_categorical(y, num_classes)\n",
        "    return y    "
      ],
      "execution_count": 0,
      "outputs": []
    },
    {
      "metadata": {
        "id": "pTHPGTcBDCDV",
        "colab_type": "code",
        "colab": {}
      },
      "cell_type": "code",
      "source": [
        "x_train, y_train = train\n",
        "x_test, y_test = test\n",
        "\n",
        "# Preproc the inputs\n",
        "x_train = preproc_x(x_train)\n",
        "x_test = preproc_x(x_test)\n",
        "\n",
        "# Preprc the outputs\n",
        "y_train = preproc_y(y_train)\n",
        "y_test = preproc_y(y_test)"
      ],
      "execution_count": 0,
      "outputs": []
    },
    {
      "metadata": {
        "id": "LhnH_JRLDDgf",
        "colab_type": "code",
        "colab": {}
      },
      "cell_type": "code",
      "source": [
        "from keras.layers import BatchNormalization\n",
        "def build_mlp(input_shape, output_units=10, num_neurons=[512, 256, 128]):\n",
        "    input_layer = keras.layers.Input(input_shape)\n",
        "    \n",
        "    for i, n_units in enumerate(num_neurons):\n",
        "        if i == 0:\n",
        "            x = keras.layers.Dense(units=n_units, \n",
        "                                   activation=\"relu\", \n",
        "                                   name=\"hidden_layer\"+str(i+1))(input_layer)\n",
        "            x = BatchNormalization()(x)\n",
        "        else:\n",
        "            x = keras.layers.Dense(units=n_units, \n",
        "                                   activation=\"relu\", \n",
        "                                   name=\"hidden_layer\"+str(i+1))(x)\n",
        "            x = BatchNormalization()(x)\n",
        "    \n",
        "    out = keras.layers.Dense(units=output_units, activation=\"softmax\", name=\"output\")(x)\n",
        "    \n",
        "    model = keras.models.Model(inputs=[input_layer], outputs=[out])\n",
        "    return model"
      ],
      "execution_count": 0,
      "outputs": []
    },
    {
      "metadata": {
        "id": "YCSL7iWbDReK",
        "colab_type": "code",
        "colab": {}
      },
      "cell_type": "code",
      "source": [
        "## 超參數設定\n",
        "LEARNING_RATE = 1e-3\n",
        "EPOCHS = 50\n",
        "BATCH_SIZE = 1024\n",
        "MOMENTUM = 0.95"
      ],
      "execution_count": 0,
      "outputs": []
    },
    {
      "metadata": {
        "id": "lROfNOEHDXlV",
        "colab_type": "code",
        "colab": {
          "base_uri": "https://localhost:8080/",
          "height": 1547
        },
        "outputId": "ee8869c3-eef9-47c9-c547-1f88e1fc88ce"
      },
      "cell_type": "code",
      "source": [
        "# 載入 Callbacks\n",
        "from keras.callbacks import EarlyStopping\n",
        "\n",
        "earlystop = EarlyStopping(monitor=\"val_acc\", \n",
        "                          patience=5, \n",
        "                          verbose=1)\n",
        "\n",
        "model = build_mlp(input_shape=x_train.shape[1:])\n",
        "model.summary()\n",
        "optimizer = keras.optimizers.SGD(lr=LEARNING_RATE, nesterov=True, momentum=MOMENTUM)\n",
        "model.compile(loss=\"categorical_crossentropy\", metrics=[\"accuracy\"], optimizer=optimizer)\n",
        "\n",
        "model.fit(x_train, y_train, \n",
        "          epochs=EPOCHS, \n",
        "          batch_size=BATCH_SIZE, \n",
        "          validation_data=(x_test, y_test), \n",
        "          shuffle=True,\n",
        "          callbacks=[earlystop]\n",
        "         )\n",
        "\n",
        "# Collect results\n",
        "train_loss = model.history.history[\"loss\"]\n",
        "valid_loss = model.history.history[\"val_loss\"]\n",
        "train_acc = model.history.history[\"acc\"]\n",
        "valid_acc = model.history.history[\"val_acc\"]"
      ],
      "execution_count": 8,
      "outputs": [
        {
          "output_type": "stream",
          "text": [
            "WARNING:tensorflow:From /usr/local/lib/python3.6/dist-packages/tensorflow/python/framework/op_def_library.py:263: colocate_with (from tensorflow.python.framework.ops) is deprecated and will be removed in a future version.\n",
            "Instructions for updating:\n",
            "Colocations handled automatically by placer.\n",
            "_________________________________________________________________\n",
            "Layer (type)                 Output Shape              Param #   \n",
            "=================================================================\n",
            "input_1 (InputLayer)         (None, 3072)              0         \n",
            "_________________________________________________________________\n",
            "hidden_layer1 (Dense)        (None, 512)               1573376   \n",
            "_________________________________________________________________\n",
            "batch_normalization_1 (Batch (None, 512)               2048      \n",
            "_________________________________________________________________\n",
            "hidden_layer2 (Dense)        (None, 256)               131328    \n",
            "_________________________________________________________________\n",
            "batch_normalization_2 (Batch (None, 256)               1024      \n",
            "_________________________________________________________________\n",
            "hidden_layer3 (Dense)        (None, 128)               32896     \n",
            "_________________________________________________________________\n",
            "batch_normalization_3 (Batch (None, 128)               512       \n",
            "_________________________________________________________________\n",
            "output (Dense)               (None, 10)                1290      \n",
            "=================================================================\n",
            "Total params: 1,742,474\n",
            "Trainable params: 1,740,682\n",
            "Non-trainable params: 1,792\n",
            "_________________________________________________________________\n",
            "WARNING:tensorflow:From /usr/local/lib/python3.6/dist-packages/tensorflow/python/ops/math_ops.py:3066: to_int32 (from tensorflow.python.ops.math_ops) is deprecated and will be removed in a future version.\n",
            "Instructions for updating:\n",
            "Use tf.cast instead.\n",
            "Train on 50000 samples, validate on 10000 samples\n",
            "Epoch 1/50\n",
            "50000/50000 [==============================] - 2s 49us/step - loss: 2.1848 - acc: 0.2775 - val_loss: 2.1144 - val_acc: 0.3112\n",
            "Epoch 2/50\n",
            "50000/50000 [==============================] - 2s 34us/step - loss: 1.7415 - acc: 0.3959 - val_loss: 1.7915 - val_acc: 0.3832\n",
            "Epoch 3/50\n",
            "50000/50000 [==============================] - 2s 34us/step - loss: 1.6117 - acc: 0.4387 - val_loss: 1.6943 - val_acc: 0.4106\n",
            "Epoch 4/50\n",
            "50000/50000 [==============================] - 2s 34us/step - loss: 1.5366 - acc: 0.4624 - val_loss: 1.6455 - val_acc: 0.4229\n",
            "Epoch 5/50\n",
            "50000/50000 [==============================] - 2s 34us/step - loss: 1.4811 - acc: 0.4853 - val_loss: 1.6012 - val_acc: 0.4327\n",
            "Epoch 6/50\n",
            "50000/50000 [==============================] - 2s 34us/step - loss: 1.4359 - acc: 0.5011 - val_loss: 1.5901 - val_acc: 0.4381\n",
            "Epoch 7/50\n",
            "50000/50000 [==============================] - 2s 34us/step - loss: 1.3948 - acc: 0.5151 - val_loss: 1.5470 - val_acc: 0.4568\n",
            "Epoch 8/50\n",
            "50000/50000 [==============================] - 2s 34us/step - loss: 1.3602 - acc: 0.5267 - val_loss: 1.5321 - val_acc: 0.4634\n",
            "Epoch 9/50\n",
            "50000/50000 [==============================] - 2s 33us/step - loss: 1.3282 - acc: 0.5383 - val_loss: 1.5196 - val_acc: 0.4626\n",
            "Epoch 10/50\n",
            "50000/50000 [==============================] - 2s 34us/step - loss: 1.2971 - acc: 0.5523 - val_loss: 1.5178 - val_acc: 0.4709\n",
            "Epoch 11/50\n",
            "50000/50000 [==============================] - 2s 34us/step - loss: 1.2684 - acc: 0.5618 - val_loss: 1.5149 - val_acc: 0.4653\n",
            "Epoch 12/50\n",
            "50000/50000 [==============================] - 2s 34us/step - loss: 1.2393 - acc: 0.5729 - val_loss: 1.4915 - val_acc: 0.4751\n",
            "Epoch 13/50\n",
            "50000/50000 [==============================] - 2s 34us/step - loss: 1.2132 - acc: 0.5832 - val_loss: 1.4836 - val_acc: 0.4774\n",
            "Epoch 14/50\n",
            "50000/50000 [==============================] - 2s 34us/step - loss: 1.1886 - acc: 0.5923 - val_loss: 1.4783 - val_acc: 0.4833\n",
            "Epoch 15/50\n",
            "50000/50000 [==============================] - 2s 34us/step - loss: 1.1640 - acc: 0.6008 - val_loss: 1.4901 - val_acc: 0.4787\n",
            "Epoch 16/50\n",
            "50000/50000 [==============================] - 2s 34us/step - loss: 1.1405 - acc: 0.6111 - val_loss: 1.4937 - val_acc: 0.4811\n",
            "Epoch 17/50\n",
            "50000/50000 [==============================] - 2s 34us/step - loss: 1.1153 - acc: 0.6212 - val_loss: 1.4702 - val_acc: 0.4867\n",
            "Epoch 18/50\n",
            "50000/50000 [==============================] - 2s 34us/step - loss: 1.0929 - acc: 0.6299 - val_loss: 1.4732 - val_acc: 0.4841\n",
            "Epoch 19/50\n",
            "50000/50000 [==============================] - 2s 34us/step - loss: 1.0712 - acc: 0.6365 - val_loss: 1.4829 - val_acc: 0.4819\n",
            "Epoch 20/50\n",
            "50000/50000 [==============================] - 2s 34us/step - loss: 1.0496 - acc: 0.6441 - val_loss: 1.4670 - val_acc: 0.4853\n",
            "Epoch 21/50\n",
            "50000/50000 [==============================] - 2s 34us/step - loss: 1.0246 - acc: 0.6541 - val_loss: 1.4720 - val_acc: 0.4900\n",
            "Epoch 22/50\n",
            "50000/50000 [==============================] - 2s 34us/step - loss: 1.0041 - acc: 0.6627 - val_loss: 1.4686 - val_acc: 0.4938\n",
            "Epoch 23/50\n",
            "50000/50000 [==============================] - 2s 34us/step - loss: 0.9821 - acc: 0.6708 - val_loss: 1.4780 - val_acc: 0.4919\n",
            "Epoch 24/50\n",
            "50000/50000 [==============================] - 2s 34us/step - loss: 0.9628 - acc: 0.6769 - val_loss: 1.4825 - val_acc: 0.4899\n",
            "Epoch 25/50\n",
            "50000/50000 [==============================] - 2s 34us/step - loss: 0.9421 - acc: 0.6852 - val_loss: 1.4799 - val_acc: 0.4927\n",
            "Epoch 26/50\n",
            "50000/50000 [==============================] - 2s 34us/step - loss: 0.9216 - acc: 0.6940 - val_loss: 1.4796 - val_acc: 0.4928\n",
            "Epoch 27/50\n",
            "50000/50000 [==============================] - 2s 34us/step - loss: 0.9023 - acc: 0.7001 - val_loss: 1.4959 - val_acc: 0.4894\n",
            "Epoch 00027: early stopping\n"
          ],
          "name": "stdout"
        }
      ]
    },
    {
      "metadata": {
        "id": "8neFrcw4DqZs",
        "colab_type": "code",
        "colab": {
          "base_uri": "https://localhost:8080/",
          "height": 543
        },
        "outputId": "20e6d4ed-4234-4109-a365-4fff0a334a76"
      },
      "cell_type": "code",
      "source": [
        "plt.plot(range(len(train_loss)), train_loss, label=\"train loss\")\n",
        "plt.plot(range(len(valid_loss)), valid_loss, label=\"valid loss\")\n",
        "plt.legend()\n",
        "plt.title(\"Loss\")\n",
        "plt.show()\n",
        "\n",
        "plt.plot(range(len(train_acc)), train_acc, label=\"train accuracy\")\n",
        "plt.plot(range(len(valid_acc)), valid_acc, label=\"valid accuracy\")\n",
        "plt.legend()\n",
        "plt.title(\"Accuracy\")\n",
        "plt.show()"
      ],
      "execution_count": 9,
      "outputs": [
        {
          "output_type": "display_data",
          "data": {
            "image/png": "[encoded data removed]",
            "text/plain": [
              "<Figure size 432x288 with 1 Axes>"
            ]
          },
          "metadata": {
            "tags": []
          }
        },
        {
          "output_type": "display_data",
          "data": {
            "image/png": "[encoded data removed]",
            "text/plain": [
              "<Figure size 432x288 with 1 Axes>"
            ]
          },
          "metadata": {
            "tags": []
          }
        }
      ]
    },
    {
      "metadata": {
        "id": "4AK74P3DDuv-",
        "colab_type": "code",
        "colab": {
          "base_uri": "https://localhost:8080/",
          "height": 1832
        },
        "outputId": "10cf257f-11d3-4536-a8fb-0ef2b6aadf2a"
      },
      "cell_type": "code",
      "source": [
        "earlystop = EarlyStopping(monitor=\"val_acc\", \n",
        "                          patience=10, \n",
        "                          verbose=1)\n",
        "\n",
        "model = build_mlp(input_shape=x_train.shape[1:])\n",
        "model.summary()\n",
        "optimizer = keras.optimizers.SGD(lr=LEARNING_RATE, nesterov=True, momentum=MOMENTUM)\n",
        "model.compile(loss=\"categorical_crossentropy\", metrics=[\"accuracy\"], optimizer=optimizer)\n",
        "\n",
        "model.fit(x_train, y_train, \n",
        "          epochs=EPOCHS, \n",
        "          batch_size=BATCH_SIZE, \n",
        "          validation_data=(x_test, y_test), \n",
        "          shuffle=True,\n",
        "          callbacks=[earlystop]\n",
        "         )\n",
        "\n",
        "# Collect results\n",
        "train_loss = model.history.history[\"loss\"]\n",
        "valid_loss = model.history.history[\"val_loss\"]\n",
        "train_acc = model.history.history[\"acc\"]\n",
        "valid_acc = model.history.history[\"val_acc\"]"
      ],
      "execution_count": 10,
      "outputs": [
        {
          "output_type": "stream",
          "text": [
            "_________________________________________________________________\n",
            "Layer (type)                 Output Shape              Param #   \n",
            "=================================================================\n",
            "input_2 (InputLayer)         (None, 3072)              0         \n",
            "_________________________________________________________________\n",
            "hidden_layer1 (Dense)        (None, 512)               1573376   \n",
            "_________________________________________________________________\n",
            "batch_normalization_4 (Batch (None, 512)               2048      \n",
            "_________________________________________________________________\n",
            "hidden_layer2 (Dense)        (None, 256)               131328    \n",
            "_________________________________________________________________\n",
            "batch_normalization_5 (Batch (None, 256)               1024      \n",
            "_________________________________________________________________\n",
            "hidden_layer3 (Dense)        (None, 128)               32896     \n",
            "_________________________________________________________________\n",
            "batch_normalization_6 (Batch (None, 128)               512       \n",
            "_________________________________________________________________\n",
            "output (Dense)               (None, 10)                1290      \n",
            "=================================================================\n",
            "Total params: 1,742,474\n",
            "Trainable params: 1,740,682\n",
            "Non-trainable params: 1,792\n",
            "_________________________________________________________________\n",
            "Train on 50000 samples, validate on 10000 samples\n",
            "Epoch 1/50\n",
            "50000/50000 [==============================] - 3s 51us/step - loss: 2.1886 - acc: 0.2785 - val_loss: 2.0902 - val_acc: 0.3191\n",
            "Epoch 2/50\n",
            "50000/50000 [==============================] - 2s 34us/step - loss: 1.7408 - acc: 0.3940 - val_loss: 1.8039 - val_acc: 0.3792\n",
            "Epoch 3/50\n",
            "50000/50000 [==============================] - 2s 35us/step - loss: 1.6068 - acc: 0.4382 - val_loss: 1.6843 - val_acc: 0.4171\n",
            "Epoch 4/50\n",
            "50000/50000 [==============================] - 2s 34us/step - loss: 1.5318 - acc: 0.4634 - val_loss: 1.6537 - val_acc: 0.4243\n",
            "Epoch 5/50\n",
            "50000/50000 [==============================] - 2s 34us/step - loss: 1.4735 - acc: 0.4861 - val_loss: 1.5901 - val_acc: 0.4399\n",
            "Epoch 6/50\n",
            "50000/50000 [==============================] - 2s 34us/step - loss: 1.4272 - acc: 0.5007 - val_loss: 1.5751 - val_acc: 0.4491\n",
            "Epoch 7/50\n",
            "50000/50000 [==============================] - 2s 34us/step - loss: 1.3884 - acc: 0.5168 - val_loss: 1.5479 - val_acc: 0.4619\n",
            "Epoch 8/50\n",
            "50000/50000 [==============================] - 2s 34us/step - loss: 1.3537 - acc: 0.5285 - val_loss: 1.5456 - val_acc: 0.4633\n",
            "Epoch 9/50\n",
            "50000/50000 [==============================] - 2s 34us/step - loss: 1.3214 - acc: 0.5402 - val_loss: 1.5133 - val_acc: 0.4702\n",
            "Epoch 10/50\n",
            "50000/50000 [==============================] - 2s 33us/step - loss: 1.2917 - acc: 0.5502 - val_loss: 1.4968 - val_acc: 0.4741\n",
            "Epoch 11/50\n",
            "50000/50000 [==============================] - 2s 33us/step - loss: 1.2626 - acc: 0.5605 - val_loss: 1.4852 - val_acc: 0.4808\n",
            "Epoch 12/50\n",
            "50000/50000 [==============================] - 2s 32us/step - loss: 1.2358 - acc: 0.5731 - val_loss: 1.4744 - val_acc: 0.4827\n",
            "Epoch 13/50\n",
            "50000/50000 [==============================] - 2s 33us/step - loss: 1.2104 - acc: 0.5817 - val_loss: 1.4706 - val_acc: 0.4831\n",
            "Epoch 14/50\n",
            "50000/50000 [==============================] - 2s 33us/step - loss: 1.1851 - acc: 0.5910 - val_loss: 1.4559 - val_acc: 0.4891\n",
            "Epoch 15/50\n",
            "50000/50000 [==============================] - 2s 33us/step - loss: 1.1601 - acc: 0.6006 - val_loss: 1.4571 - val_acc: 0.4902\n",
            "Epoch 16/50\n",
            "50000/50000 [==============================] - 2s 32us/step - loss: 1.1368 - acc: 0.6095 - val_loss: 1.4492 - val_acc: 0.4948\n",
            "Epoch 17/50\n",
            "50000/50000 [==============================] - 2s 33us/step - loss: 1.1146 - acc: 0.6172 - val_loss: 1.4599 - val_acc: 0.4930\n",
            "Epoch 18/50\n",
            "50000/50000 [==============================] - 2s 32us/step - loss: 1.0921 - acc: 0.6254 - val_loss: 1.4520 - val_acc: 0.4946\n",
            "Epoch 19/50\n",
            "50000/50000 [==============================] - 2s 33us/step - loss: 1.0701 - acc: 0.6337 - val_loss: 1.4474 - val_acc: 0.4974\n",
            "Epoch 20/50\n",
            "50000/50000 [==============================] - 2s 33us/step - loss: 1.0482 - acc: 0.6432 - val_loss: 1.4582 - val_acc: 0.4973\n",
            "Epoch 21/50\n",
            "50000/50000 [==============================] - 2s 33us/step - loss: 1.0235 - acc: 0.6532 - val_loss: 1.4449 - val_acc: 0.4985\n",
            "Epoch 22/50\n",
            "50000/50000 [==============================] - 2s 33us/step - loss: 1.0053 - acc: 0.6591 - val_loss: 1.4599 - val_acc: 0.4987\n",
            "Epoch 23/50\n",
            "50000/50000 [==============================] - 2s 33us/step - loss: 0.9833 - acc: 0.6669 - val_loss: 1.4615 - val_acc: 0.4965\n",
            "Epoch 24/50\n",
            "50000/50000 [==============================] - 2s 33us/step - loss: 0.9610 - acc: 0.6765 - val_loss: 1.4540 - val_acc: 0.4952\n",
            "Epoch 25/50\n",
            "50000/50000 [==============================] - 2s 32us/step - loss: 0.9413 - acc: 0.6856 - val_loss: 1.4737 - val_acc: 0.4980\n",
            "Epoch 26/50\n",
            "50000/50000 [==============================] - 2s 33us/step - loss: 0.9201 - acc: 0.6951 - val_loss: 1.4599 - val_acc: 0.4970\n",
            "Epoch 27/50\n",
            "50000/50000 [==============================] - 2s 33us/step - loss: 0.9012 - acc: 0.7020 - val_loss: 1.4795 - val_acc: 0.4990\n",
            "Epoch 28/50\n",
            "50000/50000 [==============================] - 2s 33us/step - loss: 0.8811 - acc: 0.7097 - val_loss: 1.4597 - val_acc: 0.5031\n",
            "Epoch 29/50\n",
            "50000/50000 [==============================] - 2s 32us/step - loss: 0.8608 - acc: 0.7167 - val_loss: 1.4648 - val_acc: 0.4986\n",
            "Epoch 30/50\n",
            "50000/50000 [==============================] - 2s 32us/step - loss: 0.8427 - acc: 0.7240 - val_loss: 1.4782 - val_acc: 0.5030\n",
            "Epoch 31/50\n",
            "50000/50000 [==============================] - 2s 32us/step - loss: 0.8209 - acc: 0.7333 - val_loss: 1.4742 - val_acc: 0.5017\n",
            "Epoch 32/50\n",
            "50000/50000 [==============================] - 2s 33us/step - loss: 0.8026 - acc: 0.7388 - val_loss: 1.4851 - val_acc: 0.4979\n",
            "Epoch 33/50\n",
            "50000/50000 [==============================] - 2s 32us/step - loss: 0.7855 - acc: 0.7459 - val_loss: 1.5051 - val_acc: 0.4893\n",
            "Epoch 34/50\n",
            "50000/50000 [==============================] - 2s 33us/step - loss: 0.7643 - acc: 0.7548 - val_loss: 1.5067 - val_acc: 0.4979\n",
            "Epoch 35/50\n",
            "50000/50000 [==============================] - 2s 33us/step - loss: 0.7478 - acc: 0.7611 - val_loss: 1.5068 - val_acc: 0.4961\n",
            "Epoch 36/50\n",
            "50000/50000 [==============================] - 2s 33us/step - loss: 0.7257 - acc: 0.7708 - val_loss: 1.5143 - val_acc: 0.4987\n",
            "Epoch 37/50\n",
            "50000/50000 [==============================] - 2s 32us/step - loss: 0.7098 - acc: 0.7755 - val_loss: 1.5602 - val_acc: 0.4980\n",
            "Epoch 38/50\n",
            "50000/50000 [==============================] - 2s 33us/step - loss: 0.6917 - acc: 0.7849 - val_loss: 1.5405 - val_acc: 0.4924\n",
            "Epoch 00038: early stopping\n"
          ],
          "name": "stdout"
        }
      ]
    },
    {
      "metadata": {
        "id": "gNXN-nlTGySX",
        "colab_type": "code",
        "colab": {
          "base_uri": "https://localhost:8080/",
          "height": 543
        },
        "outputId": "5c248050-45cd-44dc-9ab9-16152951c827"
      },
      "cell_type": "code",
      "source": [
        "plt.plot(range(len(train_loss)), train_loss, label=\"train loss\")\n",
        "plt.plot(range(len(valid_loss)), valid_loss, label=\"valid loss\")\n",
        "plt.legend()\n",
        "plt.title(\"Loss\")\n",
        "plt.show()\n",
        "\n",
        "plt.plot(range(len(train_acc)), train_acc, label=\"train accuracy\")\n",
        "plt.plot(range(len(valid_acc)), valid_acc, label=\"valid accuracy\")\n",
        "plt.legend()\n",
        "plt.title(\"Accuracy\")\n",
        "plt.show()"
      ],
      "execution_count": 11,
      "outputs": [
        {
          "output_type": "display_data",
          "data": {
            "image/png": "[encoded data removed]",
            "text/plain": [
              "<Figure size 432x288 with 1 Axes>"
            ]
          },
          "metadata": {
            "tags": []
          }
        },
        {
          "output_type": "display_data",
          "data": {
            "image/png": "[encoded data removed]",
            "text/plain": [
              "<Figure size 432x288 with 1 Axes>"
            ]
          },
          "metadata": {
            "tags": []
          }
        }
      ]
    },
    {
      "metadata": {
        "id": "BnuUwuP1G0cS",
        "colab_type": "code",
        "colab": {
          "base_uri": "https://localhost:8080/",
          "height": 2241
        },
        "outputId": "ee4c7051-b346-45c9-eadf-0371673dfc90"
      },
      "cell_type": "code",
      "source": [
        "earlystop = EarlyStopping(monitor=\"val_acc\", \n",
        "                          patience=25, \n",
        "                          verbose=1)\n",
        "\n",
        "model = build_mlp(input_shape=x_train.shape[1:])\n",
        "model.summary()\n",
        "optimizer = keras.optimizers.SGD(lr=LEARNING_RATE, nesterov=True, momentum=MOMENTUM)\n",
        "model.compile(loss=\"categorical_crossentropy\", metrics=[\"accuracy\"], optimizer=optimizer)\n",
        "\n",
        "model.fit(x_train, y_train, \n",
        "          epochs=EPOCHS, \n",
        "          batch_size=BATCH_SIZE, \n",
        "          validation_data=(x_test, y_test), \n",
        "          shuffle=True,\n",
        "          callbacks=[earlystop]\n",
        "         )\n",
        "\n",
        "# Collect results\n",
        "train_loss = model.history.history[\"loss\"]\n",
        "valid_loss = model.history.history[\"val_loss\"]\n",
        "train_acc = model.history.history[\"acc\"]\n",
        "valid_acc = model.history.history[\"val_acc\"]"
      ],
      "execution_count": 12,
      "outputs": [
        {
          "output_type": "stream",
          "text": [
            "_________________________________________________________________\n",
            "Layer (type)                 Output Shape              Param #   \n",
            "=================================================================\n",
            "input_3 (InputLayer)         (None, 3072)              0         \n",
            "_________________________________________________________________\n",
            "hidden_layer1 (Dense)        (None, 512)               1573376   \n",
            "_________________________________________________________________\n",
            "batch_normalization_7 (Batch (None, 512)               2048      \n",
            "_________________________________________________________________\n",
            "hidden_layer2 (Dense)        (None, 256)               131328    \n",
            "_________________________________________________________________\n",
            "batch_normalization_8 (Batch (None, 256)               1024      \n",
            "_________________________________________________________________\n",
            "hidden_layer3 (Dense)        (None, 128)               32896     \n",
            "_________________________________________________________________\n",
            "batch_normalization_9 (Batch (None, 128)               512       \n",
            "_________________________________________________________________\n",
            "output (Dense)               (None, 10)                1290      \n",
            "=================================================================\n",
            "Total params: 1,742,474\n",
            "Trainable params: 1,740,682\n",
            "Non-trainable params: 1,792\n",
            "_________________________________________________________________\n",
            "Train on 50000 samples, validate on 10000 samples\n",
            "Epoch 1/50\n",
            "50000/50000 [==============================] - 3s 51us/step - loss: 2.2042 - acc: 0.2739 - val_loss: 2.0546 - val_acc: 0.3263\n",
            "Epoch 2/50\n",
            "50000/50000 [==============================] - 2s 33us/step - loss: 1.7402 - acc: 0.3964 - val_loss: 1.7931 - val_acc: 0.3840\n",
            "Epoch 3/50\n",
            "50000/50000 [==============================] - 2s 32us/step - loss: 1.6172 - acc: 0.4339 - val_loss: 1.6754 - val_acc: 0.4179\n",
            "Epoch 4/50\n",
            "50000/50000 [==============================] - 2s 32us/step - loss: 1.5449 - acc: 0.4596 - val_loss: 1.6349 - val_acc: 0.4333\n",
            "Epoch 5/50\n",
            "50000/50000 [==============================] - 2s 32us/step - loss: 1.4911 - acc: 0.4797 - val_loss: 1.6168 - val_acc: 0.4393\n",
            "Epoch 6/50\n",
            "50000/50000 [==============================] - 2s 32us/step - loss: 1.4463 - acc: 0.4940 - val_loss: 1.5711 - val_acc: 0.4539\n",
            "Epoch 7/50\n",
            "50000/50000 [==============================] - 2s 33us/step - loss: 1.4056 - acc: 0.5100 - val_loss: 1.5496 - val_acc: 0.4572\n",
            "Epoch 8/50\n",
            "50000/50000 [==============================] - 2s 32us/step - loss: 1.3698 - acc: 0.5219 - val_loss: 1.5434 - val_acc: 0.4605\n",
            "Epoch 9/50\n",
            "50000/50000 [==============================] - 2s 33us/step - loss: 1.3364 - acc: 0.5355 - val_loss: 1.5327 - val_acc: 0.4639\n",
            "Epoch 10/50\n",
            "50000/50000 [==============================] - 2s 33us/step - loss: 1.3074 - acc: 0.5437 - val_loss: 1.5188 - val_acc: 0.4654\n",
            "Epoch 11/50\n",
            "50000/50000 [==============================] - 2s 33us/step - loss: 1.2784 - acc: 0.5563 - val_loss: 1.5210 - val_acc: 0.4681\n",
            "Epoch 12/50\n",
            "50000/50000 [==============================] - 2s 33us/step - loss: 1.2523 - acc: 0.5643 - val_loss: 1.4960 - val_acc: 0.4776\n",
            "Epoch 13/50\n",
            "50000/50000 [==============================] - 2s 33us/step - loss: 1.2255 - acc: 0.5752 - val_loss: 1.4851 - val_acc: 0.4836\n",
            "Epoch 14/50\n",
            "50000/50000 [==============================] - 2s 33us/step - loss: 1.2015 - acc: 0.5847 - val_loss: 1.4783 - val_acc: 0.4807\n",
            "Epoch 15/50\n",
            "50000/50000 [==============================] - 2s 33us/step - loss: 1.1763 - acc: 0.5940 - val_loss: 1.4746 - val_acc: 0.4902\n",
            "Epoch 16/50\n",
            "50000/50000 [==============================] - 2s 32us/step - loss: 1.1512 - acc: 0.6043 - val_loss: 1.4795 - val_acc: 0.4854\n",
            "Epoch 17/50\n",
            "50000/50000 [==============================] - 2s 33us/step - loss: 1.1288 - acc: 0.6124 - val_loss: 1.4870 - val_acc: 0.4796\n",
            "Epoch 18/50\n",
            "50000/50000 [==============================] - 2s 33us/step - loss: 1.1066 - acc: 0.6210 - val_loss: 1.4727 - val_acc: 0.4901\n",
            "Epoch 19/50\n",
            "50000/50000 [==============================] - 2s 33us/step - loss: 1.0845 - acc: 0.6299 - val_loss: 1.4795 - val_acc: 0.4850\n",
            "Epoch 20/50\n",
            "50000/50000 [==============================] - 2s 33us/step - loss: 1.0626 - acc: 0.6382 - val_loss: 1.4819 - val_acc: 0.4854\n",
            "Epoch 21/50\n",
            "50000/50000 [==============================] - 2s 33us/step - loss: 1.0416 - acc: 0.6468 - val_loss: 1.4712 - val_acc: 0.4881\n",
            "Epoch 22/50\n",
            "50000/50000 [==============================] - 2s 33us/step - loss: 1.0192 - acc: 0.6566 - val_loss: 1.4797 - val_acc: 0.4890\n",
            "Epoch 23/50\n",
            "50000/50000 [==============================] - 2s 33us/step - loss: 1.0005 - acc: 0.6630 - val_loss: 1.4653 - val_acc: 0.4909\n",
            "Epoch 24/50\n",
            "50000/50000 [==============================] - 2s 32us/step - loss: 0.9776 - acc: 0.6702 - val_loss: 1.4715 - val_acc: 0.4899\n",
            "Epoch 25/50\n",
            "50000/50000 [==============================] - 2s 32us/step - loss: 0.9583 - acc: 0.6791 - val_loss: 1.4700 - val_acc: 0.4965\n",
            "Epoch 26/50\n",
            "50000/50000 [==============================] - 2s 33us/step - loss: 0.9361 - acc: 0.6876 - val_loss: 1.4817 - val_acc: 0.4926\n",
            "Epoch 27/50\n",
            "50000/50000 [==============================] - 2s 32us/step - loss: 0.9170 - acc: 0.6946 - val_loss: 1.4860 - val_acc: 0.4914\n",
            "Epoch 28/50\n",
            "50000/50000 [==============================] - 2s 32us/step - loss: 0.8955 - acc: 0.7050 - val_loss: 1.4816 - val_acc: 0.4912\n",
            "Epoch 29/50\n",
            "50000/50000 [==============================] - 2s 34us/step - loss: 0.8751 - acc: 0.7118 - val_loss: 1.4865 - val_acc: 0.4928\n",
            "Epoch 30/50\n",
            "50000/50000 [==============================] - 2s 33us/step - loss: 0.8551 - acc: 0.7186 - val_loss: 1.4918 - val_acc: 0.4940\n",
            "Epoch 31/50\n",
            "50000/50000 [==============================] - 2s 33us/step - loss: 0.8348 - acc: 0.7282 - val_loss: 1.4916 - val_acc: 0.4998\n",
            "Epoch 32/50\n",
            "50000/50000 [==============================] - 2s 34us/step - loss: 0.8146 - acc: 0.7374 - val_loss: 1.4961 - val_acc: 0.4972\n",
            "Epoch 33/50\n",
            "50000/50000 [==============================] - 2s 33us/step - loss: 0.7971 - acc: 0.7429 - val_loss: 1.5185 - val_acc: 0.4900\n",
            "Epoch 34/50\n",
            "50000/50000 [==============================] - 2s 34us/step - loss: 0.7766 - acc: 0.7485 - val_loss: 1.5311 - val_acc: 0.4903\n",
            "Epoch 35/50\n",
            "50000/50000 [==============================] - 2s 33us/step - loss: 0.7560 - acc: 0.7595 - val_loss: 1.5152 - val_acc: 0.4971\n",
            "Epoch 36/50\n",
            "50000/50000 [==============================] - 2s 33us/step - loss: 0.7369 - acc: 0.7658 - val_loss: 1.5461 - val_acc: 0.4835\n",
            "Epoch 37/50\n",
            "50000/50000 [==============================] - 2s 34us/step - loss: 0.7197 - acc: 0.7754 - val_loss: 1.5381 - val_acc: 0.4876\n",
            "Epoch 38/50\n",
            "50000/50000 [==============================] - 2s 34us/step - loss: 0.6997 - acc: 0.7817 - val_loss: 1.5426 - val_acc: 0.4960\n",
            "Epoch 39/50\n",
            "50000/50000 [==============================] - 2s 34us/step - loss: 0.6821 - acc: 0.7879 - val_loss: 1.5729 - val_acc: 0.4872\n",
            "Epoch 40/50\n",
            "50000/50000 [==============================] - 2s 34us/step - loss: 0.6634 - acc: 0.7968 - val_loss: 1.5740 - val_acc: 0.4860\n",
            "Epoch 41/50\n",
            "50000/50000 [==============================] - 2s 34us/step - loss: 0.6424 - acc: 0.8044 - val_loss: 1.5809 - val_acc: 0.4892\n",
            "Epoch 42/50\n",
            "50000/50000 [==============================] - 2s 34us/step - loss: 0.6262 - acc: 0.8107 - val_loss: 1.5944 - val_acc: 0.4877\n",
            "Epoch 43/50\n",
            "50000/50000 [==============================] - 2s 34us/step - loss: 0.6066 - acc: 0.8189 - val_loss: 1.6272 - val_acc: 0.4856\n",
            "Epoch 44/50\n",
            "50000/50000 [==============================] - 2s 34us/step - loss: 0.5904 - acc: 0.8257 - val_loss: 1.6230 - val_acc: 0.4869\n",
            "Epoch 45/50\n",
            "50000/50000 [==============================] - 2s 34us/step - loss: 0.5708 - acc: 0.8325 - val_loss: 1.6337 - val_acc: 0.4860\n",
            "Epoch 46/50\n",
            "50000/50000 [==============================] - 2s 33us/step - loss: 0.5561 - acc: 0.8372 - val_loss: 1.6366 - val_acc: 0.4898\n",
            "Epoch 47/50\n",
            "50000/50000 [==============================] - 2s 34us/step - loss: 0.5392 - acc: 0.8438 - val_loss: 1.6602 - val_acc: 0.4866\n",
            "Epoch 48/50\n",
            "50000/50000 [==============================] - 2s 34us/step - loss: 0.5215 - acc: 0.8533 - val_loss: 1.6914 - val_acc: 0.4794\n",
            "Epoch 49/50\n",
            "50000/50000 [==============================] - 2s 34us/step - loss: 0.5078 - acc: 0.8568 - val_loss: 1.6763 - val_acc: 0.4858\n",
            "Epoch 50/50\n",
            "50000/50000 [==============================] - 2s 34us/step - loss: 0.4863 - acc: 0.8663 - val_loss: 1.6890 - val_acc: 0.4848\n"
          ],
          "name": "stdout"
        }
      ]
    },
    {
      "metadata": {
        "id": "54h8sLySG2Cm",
        "colab_type": "code",
        "colab": {
          "base_uri": "https://localhost:8080/",
          "height": 543
        },
        "outputId": "f4c70ebf-0d50-4a57-8fe8-54c698cf96d3"
      },
      "cell_type": "code",
      "source": [
        "plt.plot(range(len(train_loss)), train_loss, label=\"train loss\")\n",
        "plt.plot(range(len(valid_loss)), valid_loss, label=\"valid loss\")\n",
        "plt.legend()\n",
        "plt.title(\"Loss\")\n",
        "plt.show()\n",
        "\n",
        "plt.plot(range(len(train_acc)), train_acc, label=\"train accuracy\")\n",
        "plt.plot(range(len(valid_acc)), valid_acc, label=\"valid accuracy\")\n",
        "plt.legend()\n",
        "plt.title(\"Accuracy\")\n",
        "plt.show()"
      ],
      "execution_count": 13,
      "outputs": [
        {
          "output_type": "display_data",
          "data": {
            "image/png": "[encoded data removed]",
            "text/plain": [
              "<Figure size 432x288 with 1 Axes>"
            ]
          },
          "metadata": {
            "tags": []
          }
        },
        {
          "output_type": "display_data",
          "data": {
            "image/png": "[encoded data removed]",
            "text/plain": [
              "<Figure size 432x288 with 1 Axes>"
            ]
          },
          "metadata": {
            "tags": []
          }
        }
      ]
    },
    {
      "metadata": {
        "id": "zSyVsAqlG4z_",
        "colab_type": "code",
        "colab": {}
      },
      "cell_type": "code",
      "source": [
        ""
      ],
      "execution_count": 0,
      "outputs": []
    }
  ]
}