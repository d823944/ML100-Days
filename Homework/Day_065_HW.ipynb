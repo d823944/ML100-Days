{
 "cells": [
  {
   "cell_type": "markdown",
   "metadata": {},
   "source": [
    "# 作業:\n",
    "嘗試調整參數:  \n",
    "sg:sg=1表示採用skip-gram,sg=0 表示採用cbow  \n",
    "window:能往左往右看幾個字的意思 "
   ]
  },
  {
   "cell_type": "code",
   "execution_count": 1,
   "metadata": {},
   "outputs": [],
   "source": [
    "import gensim, logging\n",
    "from gensim.models import word2vec"
   ]
  },
  {
   "cell_type": "code",
   "execution_count": 2,
   "metadata": {},
   "outputs": [
    {
     "name": "stdout",
     "output_type": "stream",
     "text": [
      "sg = 1, window = 1\n",
      "Word2Vec(vocab=3, size=256, alpha=0.025)\n",
      "Similarity = 0.081\n",
      "\n",
      "sg = 1, window = 2\n",
      "Word2Vec(vocab=3, size=256, alpha=0.025)\n",
      "Similarity = 0.081\n",
      "\n",
      "sg = 1, window = 3\n",
      "Word2Vec(vocab=3, size=256, alpha=0.025)\n",
      "Similarity = 0.081\n",
      "\n",
      "sg = 1, window = 4\n",
      "Word2Vec(vocab=3, size=256, alpha=0.025)\n",
      "Similarity = 0.081\n",
      "\n",
      "sg = 1, window = 5\n",
      "Word2Vec(vocab=3, size=256, alpha=0.025)\n",
      "Similarity = 0.081\n",
      "\n",
      "sg = 2, window = 1\n",
      "Word2Vec(vocab=3, size=256, alpha=0.025)\n",
      "Similarity = 0.081\n",
      "\n",
      "sg = 2, window = 2\n",
      "Word2Vec(vocab=3, size=256, alpha=0.025)\n",
      "Similarity = 0.081\n",
      "\n",
      "sg = 2, window = 3\n",
      "Word2Vec(vocab=3, size=256, alpha=0.025)\n",
      "Similarity = 0.081\n",
      "\n",
      "sg = 2, window = 4\n",
      "Word2Vec(vocab=3, size=256, alpha=0.025)\n",
      "Similarity = 0.081\n",
      "\n",
      "sg = 2, window = 5\n",
      "Word2Vec(vocab=3, size=256, alpha=0.025)\n",
      "Similarity = 0.081\n",
      "\n"
     ]
    }
   ],
   "source": [
    "sentences = [['I am a hero', 'sentence'], ['She is a teacher', 'sentence']] \n",
    "#sentences = [['first', 'sentence'], ['second', 'sentence']]  \n",
    "\n",
    "# train word2vec on the two sentences\n",
    "# sg=0 表示COBW, sg=1 表示skip-gram\n",
    "\n",
    "for sg in [1, 2]:\n",
    "    for window in [1, 2, 3, 4, 5]:\n",
    "        print(f\"sg = {sg}, window = {window}\")\n",
    "        model = word2vec.Word2Vec(sentences, size=256, min_count=1, window=window, workers=4, sg=sg) \n",
    "        print(model)\n",
    "        print(f\"Similarity = {model.wv.similarity('I am a hero', 'She is a teacher'):.3f}\\n\")"
   ]
  },
  {
   "cell_type": "code",
   "execution_count": null,
   "metadata": {},
   "outputs": [],
   "source": []
  }
 ],
 "metadata": {
  "kernelspec": {
   "display_name": "Python 3",
   "language": "python",
   "name": "python3"
  },
  "language_info": {
   "codemirror_mode": {
    "name": "ipython",
    "version": 3
   },
   "file_extension": ".py",
   "mimetype": "text/x-python",
   "name": "python",
   "nbconvert_exporter": "python",
   "pygments_lexer": "ipython3",
   "version": "3.7.2"
  }
 },
 "nbformat": 4,
 "nbformat_minor": 2
}
