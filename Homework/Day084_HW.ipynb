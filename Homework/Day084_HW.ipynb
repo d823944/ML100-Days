{
  "nbformat": 4,
  "nbformat_minor": 0,
  "metadata": {
    "colab": {
      "name": "Day084_HW.ipynb",
      "version": "0.3.2",
      "provenance": [],
      "collapsed_sections": [],
      "include_colab_link": true
    },
    "kernelspec": {
      "name": "python3",
      "display_name": "Python 3"
    },
    "accelerator": "GPU"
  },
  "cells": [
    {
      "cell_type": "markdown",
      "metadata": {
        "id": "view-in-github",
        "colab_type": "text"
      },
      "source": [
        "<a href=\"https://colab.research.google.com/github/d823944/ML100-Days/blob/master/Homework/Day084_HW.ipynb\" target=\"_parent\"><img src=\"https://colab.research.google.com/assets/colab-badge.svg\" alt=\"Open In Colab\"/></a>"
      ]
    },
    {
      "metadata": {
        "id": "5wxtWfdH8gis",
        "colab_type": "text"
      },
      "cell_type": "markdown",
      "source": [
        "**Work**    \n",
        "請結合前面的知識與程式碼，比較不同的 regularization 的組合對訓練的結果與影響：如 dropout, regularizers, batch-normalization 等"
      ]
    },
    {
      "metadata": {
        "id": "NTw6rpNZ8dYY",
        "colab_type": "code",
        "colab": {
          "base_uri": "https://localhost:8080/",
          "height": 34
        },
        "outputId": "32ad86af-8fd2-4516-f464-e60c52c8b073"
      },
      "cell_type": "code",
      "source": [
        "# Check GPU\n",
        "import tensorflow as tf\n",
        "tf.test.gpu_device_name()"
      ],
      "execution_count": 1,
      "outputs": [
        {
          "output_type": "execute_result",
          "data": {
            "text/plain": [
              "'/device:GPU:0'"
            ]
          },
          "metadata": {
            "tags": []
          },
          "execution_count": 1
        }
      ]
    },
    {
      "metadata": {
        "id": "rct0CuFT8quG",
        "colab_type": "code",
        "colab": {
          "base_uri": "https://localhost:8080/",
          "height": 34
        },
        "outputId": "7a7d0dd9-6829-4483-bebf-9efcd0edd219"
      },
      "cell_type": "code",
      "source": [
        "import os\n",
        "import keras\n",
        "import itertools"
      ],
      "execution_count": 2,
      "outputs": [
        {
          "output_type": "stream",
          "text": [
            "Using TensorFlow backend.\n"
          ],
          "name": "stderr"
        }
      ]
    },
    {
      "metadata": {
        "id": "SfNIbkHU8ucx",
        "colab_type": "code",
        "colab": {
          "base_uri": "https://localhost:8080/",
          "height": 52
        },
        "outputId": "1b79493a-4586-48fb-8a26-00977b2faf8f"
      },
      "cell_type": "code",
      "source": [
        "train, test = keras.datasets.cifar10.load_data()"
      ],
      "execution_count": 3,
      "outputs": [
        {
          "output_type": "stream",
          "text": [
            "Downloading data from https://www.cs.toronto.edu/~kriz/cifar-10-python.tar.gz\n",
            "170500096/170498071 [==============================] - 28s 0us/step\n"
          ],
          "name": "stdout"
        }
      ]
    },
    {
      "metadata": {
        "id": "CLNdZb518uyn",
        "colab_type": "code",
        "colab": {}
      },
      "cell_type": "code",
      "source": [
        "## 資料前處理\n",
        "def preproc_x(x, flatten=True):\n",
        "    x = x / 255.\n",
        "    if flatten:\n",
        "        x = x.reshape((len(x), -1))\n",
        "    return x\n",
        "\n",
        "def preproc_y(y, num_classes=10):\n",
        "    if y.shape[-1] == 1:\n",
        "        y = keras.utils.to_categorical(y, num_classes)\n",
        "    return y    "
      ],
      "execution_count": 0,
      "outputs": []
    },
    {
      "metadata": {
        "id": "8_34e9Sa8wKt",
        "colab_type": "code",
        "colab": {}
      },
      "cell_type": "code",
      "source": [
        "x_train, y_train = train\n",
        "x_test, y_test = test\n",
        "\n",
        "# Preproc the inputs\n",
        "x_train = preproc_x(x_train)\n",
        "x_test = preproc_x(x_test)\n",
        "\n",
        "# Preprc the outputs\n",
        "y_train = preproc_y(y_train)\n",
        "y_test = preproc_y(y_test)"
      ],
      "execution_count": 0,
      "outputs": []
    },
    {
      "metadata": {
        "id": "Cax0D21K8x47",
        "colab_type": "code",
        "colab": {}
      },
      "cell_type": "code",
      "source": [
        "# Hint 1 : 在 Dense 層中增加 Regularizers\n",
        "# Hint 2 : 增加 Dropout 層並設定 dropout ratio \n",
        "# Hint 3 : 增加 Batch-normalization 層\n",
        "from keras.regularizers import l1_l2\n",
        "\n",
        "def build_mlp(input_shape, output_units=10, num_neurons=[512, 256, 128], l1_alpha=0.01, l2_alpha=0.01, drp_ratio=0.2):\n",
        "    input_layer = keras.layers.Input(input_shape)\n",
        "    x = keras.layers.BatchNormalization()(input_layer)\n",
        "    \n",
        "    for i, n_units in enumerate(num_neurons):\n",
        "        if i == 0:\n",
        "            x = keras.layers.Dense(units=n_units, \n",
        "                                   activation=\"relu\",\n",
        "                                   kernel_regularizer=l1_l2(l1=l1_alpha, l2=l2_alpha))(x)\n",
        "        else:\n",
        "            x = keras.layers.Dense(units=n_units, \n",
        "                                   activation=\"relu\",\n",
        "                                   kernel_regularizer=l1_l2(l1=l1_alpha, l2=l2_alpha))(x)\n",
        "        x = keras.layers.Dropout(drp_ratio)(x)\n",
        "        x = keras.layers.BatchNormalization()(x)\n",
        "    \n",
        "    out = keras.layers.Dense(units=output_units, activation=\"softmax\", name=\"output\")(x)\n",
        "    \n",
        "    model = keras.models.Model(inputs=[input_layer], outputs=[out])\n",
        "    return model"
      ],
      "execution_count": 0,
      "outputs": []
    },
    {
      "metadata": {
        "id": "T95MXn-H_xqp",
        "colab_type": "code",
        "colab": {}
      },
      "cell_type": "code",
      "source": [
        "## 超參數設定\n",
        "\"\"\"\n",
        "Set your hyper-parameters\n",
        "\"\"\"\n",
        "LEARNING_RATE = 1e-3\n",
        "EPOCHS = 50\n",
        "BATCH_SIZE = [512]\n",
        "MOMENTUM = 0.95"
      ],
      "execution_count": 0,
      "outputs": []
    },
    {
      "metadata": {
        "id": "LxDolGV-ABXx",
        "colab_type": "code",
        "colab": {
          "base_uri": "https://localhost:8080/",
          "height": 2383
        },
        "outputId": "553cb38c-a08d-44d6-fd10-24b196692fae"
      },
      "cell_type": "code",
      "source": [
        "results = {}\n",
        "\"\"\"\n",
        "Write your training loop and record results\n",
        "\"\"\"\n",
        "for batch_size in BATCH_SIZE:\n",
        "    model = build_mlp(input_shape=x_train.shape[1:], output_units=10,\n",
        "                      num_neurons=[512, 256, 128],\n",
        "                      l1_alpha=0.001, l2_alpha=0.001, drp_ratio=0.2)\n",
        "    model.summary()\n",
        "    model.compile(optimizer='adam',\n",
        "                  loss=\"categorical_crossentropy\",\n",
        "                  metrics=[\"accuracy\"])\n",
        "\n",
        "    model.fit(x_train, y_train, \n",
        "              epochs=EPOCHS, \n",
        "              batch_size=batch_size, \n",
        "              validation_data=(x_test, y_test), \n",
        "              shuffle=True)\n",
        "    \n",
        "    # Collect results\n",
        "    train_loss = model.history.history[\"loss\"]\n",
        "    valid_loss = model.history.history[\"val_loss\"]\n",
        "    train_acc = model.history.history[\"acc\"]\n",
        "    valid_acc = model.history.history[\"val_acc\"]\n",
        "    \n",
        "    exp_name_tag = f\"batch_size_{batch_size}\"\n",
        "    results[exp_name_tag] = {'train-loss': train_loss,\n",
        "                             'valid-loss': valid_loss,\n",
        "                             'train-acc': train_acc,\n",
        "                             'valid-acc': valid_acc}"
      ],
      "execution_count": 18,
      "outputs": [
        {
          "output_type": "stream",
          "text": [
            "_________________________________________________________________\n",
            "Layer (type)                 Output Shape              Param #   \n",
            "=================================================================\n",
            "input_4 (InputLayer)         (None, 3072)              0         \n",
            "_________________________________________________________________\n",
            "batch_normalization_6 (Batch (None, 3072)              12288     \n",
            "_________________________________________________________________\n",
            "dense_4 (Dense)              (None, 512)               1573376   \n",
            "_________________________________________________________________\n",
            "dropout_4 (Dropout)          (None, 512)               0         \n",
            "_________________________________________________________________\n",
            "batch_normalization_7 (Batch (None, 512)               2048      \n",
            "_________________________________________________________________\n",
            "dense_5 (Dense)              (None, 256)               131328    \n",
            "_________________________________________________________________\n",
            "dropout_5 (Dropout)          (None, 256)               0         \n",
            "_________________________________________________________________\n",
            "batch_normalization_8 (Batch (None, 256)               1024      \n",
            "_________________________________________________________________\n",
            "dense_6 (Dense)              (None, 128)               32896     \n",
            "_________________________________________________________________\n",
            "dropout_6 (Dropout)          (None, 128)               0         \n",
            "_________________________________________________________________\n",
            "batch_normalization_9 (Batch (None, 128)               512       \n",
            "_________________________________________________________________\n",
            "output (Dense)               (None, 10)                1290      \n",
            "=================================================================\n",
            "Total params: 1,754,762\n",
            "Trainable params: 1,746,826\n",
            "Non-trainable params: 7,936\n",
            "_________________________________________________________________\n",
            "Train on 50000 samples, validate on 10000 samples\n",
            "Epoch 1/50\n",
            "50000/50000 [==============================] - 4s 84us/step - loss: 18.5493 - acc: 0.3123 - val_loss: 7.6376 - val_acc: 0.3356\n",
            "Epoch 2/50\n",
            "50000/50000 [==============================] - 3s 55us/step - loss: 5.9623 - acc: 0.3440 - val_loss: 4.9673 - val_acc: 0.3186\n",
            "Epoch 3/50\n",
            "50000/50000 [==============================] - 3s 54us/step - loss: 4.1824 - acc: 0.3655 - val_loss: 3.9714 - val_acc: 0.3355\n",
            "Epoch 4/50\n",
            "50000/50000 [==============================] - 3s 55us/step - loss: 3.5796 - acc: 0.3735 - val_loss: 3.5233 - val_acc: 0.3687\n",
            "Epoch 5/50\n",
            "50000/50000 [==============================] - 3s 55us/step - loss: 3.3344 - acc: 0.3799 - val_loss: 3.3399 - val_acc: 0.4072\n",
            "Epoch 6/50\n",
            "50000/50000 [==============================] - 3s 55us/step - loss: 3.2281 - acc: 0.3844 - val_loss: 3.1900 - val_acc: 0.4168\n",
            "Epoch 7/50\n",
            "50000/50000 [==============================] - 3s 55us/step - loss: 3.1752 - acc: 0.3918 - val_loss: 3.1273 - val_acc: 0.4126\n",
            "Epoch 8/50\n",
            "50000/50000 [==============================] - 3s 55us/step - loss: 3.1382 - acc: 0.3953 - val_loss: 3.0913 - val_acc: 0.4122\n",
            "Epoch 9/50\n",
            "50000/50000 [==============================] - 3s 56us/step - loss: 3.1046 - acc: 0.3946 - val_loss: 3.0246 - val_acc: 0.4158\n",
            "Epoch 10/50\n",
            "50000/50000 [==============================] - 3s 55us/step - loss: 3.0533 - acc: 0.3984 - val_loss: 2.9738 - val_acc: 0.4261\n",
            "Epoch 11/50\n",
            "50000/50000 [==============================] - 3s 55us/step - loss: 3.0596 - acc: 0.4028 - val_loss: 3.0130 - val_acc: 0.4217\n",
            "Epoch 12/50\n",
            "50000/50000 [==============================] - 3s 55us/step - loss: 3.0089 - acc: 0.4055 - val_loss: 2.9431 - val_acc: 0.4283\n",
            "Epoch 13/50\n",
            "50000/50000 [==============================] - 3s 55us/step - loss: 3.0085 - acc: 0.4065 - val_loss: 2.9170 - val_acc: 0.4314\n",
            "Epoch 14/50\n",
            "50000/50000 [==============================] - 3s 56us/step - loss: 2.9778 - acc: 0.4082 - val_loss: 2.9476 - val_acc: 0.4170\n",
            "Epoch 15/50\n",
            "50000/50000 [==============================] - 3s 55us/step - loss: 2.9766 - acc: 0.4134 - val_loss: 2.8903 - val_acc: 0.4382\n",
            "Epoch 16/50\n",
            "50000/50000 [==============================] - 3s 55us/step - loss: 2.9416 - acc: 0.4129 - val_loss: 2.8833 - val_acc: 0.4300\n",
            "Epoch 17/50\n",
            "50000/50000 [==============================] - 3s 55us/step - loss: 2.9303 - acc: 0.4153 - val_loss: 2.8643 - val_acc: 0.4301\n",
            "Epoch 18/50\n",
            "50000/50000 [==============================] - 3s 55us/step - loss: 2.9053 - acc: 0.4133 - val_loss: 2.8019 - val_acc: 0.4299\n",
            "Epoch 19/50\n",
            "50000/50000 [==============================] - 3s 55us/step - loss: 2.8593 - acc: 0.4181 - val_loss: 2.7909 - val_acc: 0.4397\n",
            "Epoch 20/50\n",
            "50000/50000 [==============================] - 3s 55us/step - loss: 2.8553 - acc: 0.4144 - val_loss: 2.8175 - val_acc: 0.4262\n",
            "Epoch 21/50\n",
            "50000/50000 [==============================] - 3s 55us/step - loss: 2.8395 - acc: 0.4188 - val_loss: 2.8119 - val_acc: 0.4305\n",
            "Epoch 22/50\n",
            "50000/50000 [==============================] - 3s 55us/step - loss: 2.8262 - acc: 0.4178 - val_loss: 2.7856 - val_acc: 0.4422\n",
            "Epoch 23/50\n",
            "50000/50000 [==============================] - 3s 55us/step - loss: 2.7964 - acc: 0.4218 - val_loss: 2.7132 - val_acc: 0.4483\n",
            "Epoch 24/50\n",
            "50000/50000 [==============================] - 3s 55us/step - loss: 2.7628 - acc: 0.4215 - val_loss: 2.6485 - val_acc: 0.4534\n",
            "Epoch 25/50\n",
            "50000/50000 [==============================] - 3s 55us/step - loss: 2.7180 - acc: 0.4235 - val_loss: 2.6239 - val_acc: 0.4556\n",
            "Epoch 26/50\n",
            "50000/50000 [==============================] - 3s 55us/step - loss: 2.6872 - acc: 0.4265 - val_loss: 2.6168 - val_acc: 0.4538\n",
            "Epoch 27/50\n",
            "50000/50000 [==============================] - 3s 54us/step - loss: 2.6546 - acc: 0.4265 - val_loss: 2.5703 - val_acc: 0.4531\n",
            "Epoch 28/50\n",
            "50000/50000 [==============================] - 3s 54us/step - loss: 2.6129 - acc: 0.4285 - val_loss: 2.5443 - val_acc: 0.4525\n",
            "Epoch 29/50\n",
            "50000/50000 [==============================] - 3s 55us/step - loss: 2.5888 - acc: 0.4309 - val_loss: 2.4911 - val_acc: 0.4555\n",
            "Epoch 30/50\n",
            "50000/50000 [==============================] - 3s 55us/step - loss: 2.5447 - acc: 0.4307 - val_loss: 2.4633 - val_acc: 0.4566\n",
            "Epoch 31/50\n",
            "50000/50000 [==============================] - 3s 54us/step - loss: 2.5102 - acc: 0.4335 - val_loss: 2.4084 - val_acc: 0.4565\n",
            "Epoch 32/50\n",
            "50000/50000 [==============================] - 3s 55us/step - loss: 2.4718 - acc: 0.4364 - val_loss: 2.3936 - val_acc: 0.4650\n",
            "Epoch 33/50\n",
            "50000/50000 [==============================] - 3s 54us/step - loss: 2.4573 - acc: 0.4366 - val_loss: 2.3515 - val_acc: 0.4707\n",
            "Epoch 34/50\n",
            "50000/50000 [==============================] - 3s 54us/step - loss: 2.4365 - acc: 0.4374 - val_loss: 2.3631 - val_acc: 0.4602\n",
            "Epoch 35/50\n",
            "50000/50000 [==============================] - 3s 54us/step - loss: 2.4021 - acc: 0.4391 - val_loss: 2.3214 - val_acc: 0.4630\n",
            "Epoch 36/50\n",
            "50000/50000 [==============================] - 3s 54us/step - loss: 2.3516 - acc: 0.4411 - val_loss: 2.2900 - val_acc: 0.4534\n",
            "Epoch 37/50\n",
            "50000/50000 [==============================] - 3s 55us/step - loss: 2.3152 - acc: 0.4398 - val_loss: 2.2324 - val_acc: 0.4685\n",
            "Epoch 38/50\n",
            "50000/50000 [==============================] - 3s 55us/step - loss: 2.2927 - acc: 0.4429 - val_loss: 2.2085 - val_acc: 0.4670\n",
            "Epoch 39/50\n",
            "50000/50000 [==============================] - 3s 54us/step - loss: 2.2684 - acc: 0.4420 - val_loss: 2.1959 - val_acc: 0.4710\n",
            "Epoch 40/50\n",
            "50000/50000 [==============================] - 3s 54us/step - loss: 2.2508 - acc: 0.4448 - val_loss: 2.1679 - val_acc: 0.4758\n",
            "Epoch 41/50\n",
            "50000/50000 [==============================] - 3s 55us/step - loss: 2.2246 - acc: 0.4473 - val_loss: 2.2102 - val_acc: 0.4587\n",
            "Epoch 42/50\n",
            "50000/50000 [==============================] - 3s 55us/step - loss: 2.2092 - acc: 0.4449 - val_loss: 2.1333 - val_acc: 0.4721\n",
            "Epoch 43/50\n",
            "50000/50000 [==============================] - 3s 54us/step - loss: 2.1959 - acc: 0.4454 - val_loss: 2.1081 - val_acc: 0.4807\n",
            "Epoch 44/50\n",
            "50000/50000 [==============================] - 3s 55us/step - loss: 2.1803 - acc: 0.4471 - val_loss: 2.1218 - val_acc: 0.4742\n",
            "Epoch 45/50\n",
            "50000/50000 [==============================] - 3s 54us/step - loss: 2.1636 - acc: 0.4505 - val_loss: 2.1017 - val_acc: 0.4728\n",
            "Epoch 46/50\n",
            "50000/50000 [==============================] - 3s 54us/step - loss: 2.1543 - acc: 0.4492 - val_loss: 2.0595 - val_acc: 0.4796\n",
            "Epoch 47/50\n",
            "50000/50000 [==============================] - 3s 55us/step - loss: 2.1494 - acc: 0.4495 - val_loss: 2.0550 - val_acc: 0.4878\n",
            "Epoch 48/50\n",
            "50000/50000 [==============================] - 3s 55us/step - loss: 2.1284 - acc: 0.4532 - val_loss: 2.0693 - val_acc: 0.4768\n",
            "Epoch 49/50\n",
            "50000/50000 [==============================] - 3s 55us/step - loss: 2.1244 - acc: 0.4539 - val_loss: 2.0660 - val_acc: 0.4791\n",
            "Epoch 50/50\n",
            "50000/50000 [==============================] - 3s 56us/step - loss: 2.1126 - acc: 0.4524 - val_loss: 2.0405 - val_acc: 0.4836\n"
          ],
          "name": "stdout"
        }
      ]
    },
    {
      "metadata": {
        "id": "OxhhxhMjAtu6",
        "colab_type": "code",
        "colab": {
          "base_uri": "https://localhost:8080/",
          "height": 761
        },
        "outputId": "c2763994-4901-4092-d594-134c1d8d1e4a"
      },
      "cell_type": "code",
      "source": [
        "import matplotlib.pyplot as plt\n",
        "%matplotlib inline\n",
        "\n",
        "color_bar = [\"r\", \"g\", \"b\", \"y\", \"m\", \"k\"]\n",
        "\n",
        "plt.figure(figsize=(8,6))\n",
        "for i, cond in enumerate(results.keys()):\n",
        "    plt.plot(range(len(results[cond]['train-loss'])),results[cond]['train-loss'], '-', label=f\"train: {cond}\", color=color_bar[i])\n",
        "    plt.plot(range(len(results[cond]['valid-loss'])),results[cond]['valid-loss'], '--', label=f\"valid: {cond}\", color=color_bar[i])\n",
        "plt.title(\"Loss\")\n",
        "plt.ylim([0, 5])\n",
        "plt.legend()\n",
        "plt.show()\n",
        "\n",
        "plt.figure(figsize=(8,6))\n",
        "for i, cond in enumerate(results.keys()):\n",
        "    plt.plot(range(len(results[cond]['train-acc'])),results[cond]['train-acc'], '-', label=f\"train: {cond}\", color=color_bar[i])\n",
        "    plt.plot(range(len(results[cond]['valid-acc'])),results[cond]['valid-acc'], '--', label=f\"valid: {cond}\", color=color_bar[i])\n",
        "plt.title(\"Accuracy\")\n",
        "plt.legend()\n",
        "plt.show()"
      ],
      "execution_count": 19,
      "outputs": [
        {
          "output_type": "display_data",
          "data": {
            "image/png": "[encoded data removed]",
            "text/plain": [
              "<Figure size 576x432 with 1 Axes>"
            ]
          },
          "metadata": {
            "tags": []
          }
        },
        {
          "output_type": "display_data",
          "data": {
            "image/png": "[encoded data removed]",
            "text/plain": [
              "<Figure size 576x432 with 1 Axes>"
            ]
          },
          "metadata": {
            "tags": []
          }
        }
      ]
    },
    {
      "metadata": {
        "id": "Z0goGbPCBKXp",
        "colab_type": "code",
        "colab": {}
      },
      "cell_type": "code",
      "source": [
        ""
      ],
      "execution_count": 0,
      "outputs": []
    }
  ]
}