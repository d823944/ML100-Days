{
  "nbformat": 4,
  "nbformat_minor": 0,
  "metadata": {
    "colab": {
      "name": "Day078_HW.ipynb",
      "version": "0.3.2",
      "provenance": [],
      "collapsed_sections": [],
      "include_colab_link": true
    },
    "kernelspec": {
      "name": "python3",
      "display_name": "Python 3"
    },
    "accelerator": "GPU"
  },
  "cells": [
    {
      "cell_type": "markdown",
      "metadata": {
        "id": "view-in-github",
        "colab_type": "text"
      },
      "source": [
        "<a href=\"https://colab.research.google.com/github/d823944/ML100-Days/blob/master/Homework/Day078_HW.ipynb\" target=\"_parent\"><img src=\"https://colab.research.google.com/assets/colab-badge.svg\" alt=\"Open In Colab\"/></a>"
      ]
    },
    {
      "metadata": {
        "id": "gedmfJHfs___",
        "colab_type": "text"
      },
      "cell_type": "markdown",
      "source": [
        "## Work\n",
        "1. 請嘗試將 preproc_x 替換成以每筆資料的 min/max 進行標準化至 -1 ~ 1 間，再進行訓練\n",
        "2. 請嘗試將 mlp 疊更深 (e.g 5~10 層)，進行訓練後觀察 learning curve 的走勢\n",
        "3. (optional) 請改用 GPU 進行訓練 (如果你有 GPU 的話)，比較使用 CPU 與 GPU 的訓練速度"
      ]
    },
    {
      "metadata": {
        "id": "OV3Qhk97tAAA",
        "colab_type": "code",
        "colab": {
          "base_uri": "https://localhost:8080/",
          "height": 34
        },
        "outputId": "a108899b-1a1b-4a16-ab85-541951bfb203"
      },
      "cell_type": "code",
      "source": [
        "## 確認硬體資源\n",
        "\"\"\"\n",
        "Your code here\n",
        "\"\"\"\n",
        "# Use Colab"
      ],
      "execution_count": 1,
      "outputs": [
        {
          "output_type": "execute_result",
          "data": {
            "text/plain": [
              "'\\nYour code here\\n'"
            ]
          },
          "metadata": {
            "tags": []
          },
          "execution_count": 1
        }
      ]
    },
    {
      "metadata": {
        "id": "944FgrDjtAAD",
        "colab_type": "code",
        "colab": {
          "base_uri": "https://localhost:8080/",
          "height": 34
        },
        "outputId": "611d7abd-3c6f-4f65-fa98-c9b4bcdb9210"
      },
      "cell_type": "code",
      "source": [
        "import os\n",
        "import keras\n",
        "\n",
        "# Try to enable GPU (optional)\n"
      ],
      "execution_count": 2,
      "outputs": [
        {
          "output_type": "stream",
          "text": [
            "Using TensorFlow backend.\n"
          ],
          "name": "stderr"
        }
      ]
    },
    {
      "metadata": {
        "id": "KjbfbGs0tAAH",
        "colab_type": "code",
        "colab": {}
      },
      "cell_type": "code",
      "source": [
        "train, test = keras.datasets.cifar10.load_data()"
      ],
      "execution_count": 0,
      "outputs": []
    },
    {
      "metadata": {
        "id": "mYcVr8xItAAJ",
        "colab_type": "code",
        "colab": {}
      },
      "cell_type": "code",
      "source": [
        "## 資料前處理\n",
        "\"\"\"\n",
        "Your code here\n",
        "\"\"\"\n",
        "def preproc_x(x, flatten=True):\n",
        "    original_shape = x.shape\n",
        "    x = x.reshape((len(x), -1))\n",
        "    x = (x - x.min(axis=0)) / (x.max(axis=0) - x.min(axis=0)) * 2 - 1\n",
        "    if not flatten:\n",
        "        x = x.reshape(original_shape)\n",
        "    return x\n",
        "\n",
        "def preproc_y(y, num_classes=10):\n",
        "    if y.shape[-1] == 1:\n",
        "        y = keras.utils.to_categorical(y, num_classes)\n",
        "    return y   "
      ],
      "execution_count": 0,
      "outputs": []
    },
    {
      "metadata": {
        "id": "mqU24GWotAAL",
        "colab_type": "code",
        "colab": {}
      },
      "cell_type": "code",
      "source": [
        "x_train, y_train = train\n",
        "x_test, y_test = test\n",
        "\n",
        "# Preproc the inputs\n",
        "x_train = preproc_x(x_train)\n",
        "x_test = preproc_x(x_test)\n",
        "\n",
        "# Preprc the outputs\n",
        "y_train = preproc_y(y_train)\n",
        "y_test = preproc_y(y_test)"
      ],
      "execution_count": 0,
      "outputs": []
    },
    {
      "metadata": {
        "id": "22PQikVmtAAN",
        "colab_type": "code",
        "colab": {
          "base_uri": "https://localhost:8080/",
          "height": 463
        },
        "outputId": "2889ac1c-82b6-47ce-dcb8-6aa5b87e8008"
      },
      "cell_type": "code",
      "source": [
        "\"\"\"\n",
        "Your code here\n",
        "\"\"\"\n",
        "def build_mlp(input_shape, output_units=10, num_neurons=[512, 256, 128, 64, 32]):\n",
        "    input_layer = keras.layers.Input(input_shape)\n",
        "    \n",
        "    for i, n_units in enumerate(num_neurons):\n",
        "        if i == 0:\n",
        "            x = keras.layers.Dense(units=n_units, activation=\"relu\", name=\"hidden_layer\"+str(i+1))(input_layer)\n",
        "        else:\n",
        "            x = keras.layers.Dense(units=n_units, activation=\"relu\", name=\"hidden_layer\"+str(i+1))(x)\n",
        "    \n",
        "    out = keras.layers.Dense(units=output_units, activation=\"softmax\", name=\"output\")(x)\n",
        "    \n",
        "    model = keras.models.Model(inputs=[input_layer], outputs=[out])\n",
        "    return model\n",
        "\n",
        "model = build_mlp((x_train.shape[1],))\n",
        "model.summary()"
      ],
      "execution_count": 6,
      "outputs": [
        {
          "output_type": "stream",
          "text": [
            "WARNING:tensorflow:From /usr/local/lib/python3.6/dist-packages/tensorflow/python/framework/op_def_library.py:263: colocate_with (from tensorflow.python.framework.ops) is deprecated and will be removed in a future version.\n",
            "Instructions for updating:\n",
            "Colocations handled automatically by placer.\n",
            "_________________________________________________________________\n",
            "Layer (type)                 Output Shape              Param #   \n",
            "=================================================================\n",
            "input_1 (InputLayer)         (None, 3072)              0         \n",
            "_________________________________________________________________\n",
            "hidden_layer1 (Dense)        (None, 512)               1573376   \n",
            "_________________________________________________________________\n",
            "hidden_layer2 (Dense)        (None, 256)               131328    \n",
            "_________________________________________________________________\n",
            "hidden_layer3 (Dense)        (None, 128)               32896     \n",
            "_________________________________________________________________\n",
            "hidden_layer4 (Dense)        (None, 64)                8256      \n",
            "_________________________________________________________________\n",
            "hidden_layer5 (Dense)        (None, 32)                2080      \n",
            "_________________________________________________________________\n",
            "output (Dense)               (None, 10)                330       \n",
            "=================================================================\n",
            "Total params: 1,748,266\n",
            "Trainable params: 1,748,266\n",
            "Non-trainable params: 0\n",
            "_________________________________________________________________\n"
          ],
          "name": "stdout"
        }
      ]
    },
    {
      "metadata": {
        "id": "HeKr0d7TtAAP",
        "colab_type": "code",
        "colab": {}
      },
      "cell_type": "code",
      "source": [
        "## 超參數設定\n",
        "LEARNING_RATE = 0.001\n",
        "EPOCHS = 100\n",
        "BATCH_SIZE = 256"
      ],
      "execution_count": 0,
      "outputs": []
    },
    {
      "metadata": {
        "id": "cMG8gzh0tAAR",
        "colab_type": "code",
        "colab": {}
      },
      "cell_type": "code",
      "source": [
        "optimizer = keras.optimizers.Adam(lr=LEARNING_RATE)\n",
        "model.compile(loss=\"categorical_crossentropy\", metrics=[\"accuracy\"], optimizer=optimizer)"
      ],
      "execution_count": 0,
      "outputs": []
    },
    {
      "metadata": {
        "id": "ausQ4GWytAAS",
        "colab_type": "code",
        "colab": {
          "base_uri": "https://localhost:8080/",
          "height": 3681
        },
        "outputId": "6a9bddc0-27c6-42cf-e743-0ae92b40bcfa"
      },
      "cell_type": "code",
      "source": [
        "model.fit(x_train, y_train, \n",
        "          epochs=EPOCHS, \n",
        "          batch_size=BATCH_SIZE, \n",
        "          validation_data=(x_test, y_test), \n",
        "          shuffle=True,\n",
        "          verbose=2)"
      ],
      "execution_count": 9,
      "outputs": [
        {
          "output_type": "stream",
          "text": [
            "WARNING:tensorflow:From /usr/local/lib/python3.6/dist-packages/tensorflow/python/ops/math_ops.py:3066: to_int32 (from tensorflow.python.ops.math_ops) is deprecated and will be removed in a future version.\n",
            "Instructions for updating:\n",
            "Use tf.cast instead.\n",
            "Train on 50000 samples, validate on 10000 samples\n",
            "Epoch 1/100\n",
            " - 4s - loss: 1.7159 - acc: 0.3884 - val_loss: 1.5600 - val_acc: 0.4503\n",
            "Epoch 2/100\n",
            " - 3s - loss: 1.4775 - acc: 0.4775 - val_loss: 1.4360 - val_acc: 0.4942\n",
            "Epoch 3/100\n",
            " - 3s - loss: 1.3586 - acc: 0.5215 - val_loss: 1.4224 - val_acc: 0.4986\n",
            "Epoch 4/100\n",
            " - 3s - loss: 1.2630 - acc: 0.5557 - val_loss: 1.3886 - val_acc: 0.5105\n",
            "Epoch 5/100\n",
            " - 3s - loss: 1.1856 - acc: 0.5822 - val_loss: 1.3774 - val_acc: 0.5212\n",
            "Epoch 6/100\n",
            " - 3s - loss: 1.1078 - acc: 0.6078 - val_loss: 1.3902 - val_acc: 0.5235\n",
            "Epoch 7/100\n",
            " - 3s - loss: 1.0259 - acc: 0.6385 - val_loss: 1.3985 - val_acc: 0.5297\n",
            "Epoch 8/100\n",
            " - 3s - loss: 0.9562 - acc: 0.6623 - val_loss: 1.3987 - val_acc: 0.5313\n",
            "Epoch 9/100\n",
            " - 3s - loss: 0.8891 - acc: 0.6862 - val_loss: 1.4473 - val_acc: 0.5330\n",
            "Epoch 10/100\n",
            " - 3s - loss: 0.8215 - acc: 0.7095 - val_loss: 1.4976 - val_acc: 0.5371\n",
            "Epoch 11/100\n",
            " - 3s - loss: 0.7530 - acc: 0.7331 - val_loss: 1.5274 - val_acc: 0.5348\n",
            "Epoch 12/100\n",
            " - 3s - loss: 0.6891 - acc: 0.7567 - val_loss: 1.5703 - val_acc: 0.5316\n",
            "Epoch 13/100\n",
            " - 3s - loss: 0.6285 - acc: 0.7780 - val_loss: 1.6620 - val_acc: 0.5341\n",
            "Epoch 14/100\n",
            " - 3s - loss: 0.5769 - acc: 0.7968 - val_loss: 1.7108 - val_acc: 0.5344\n",
            "Epoch 15/100\n",
            " - 3s - loss: 0.5250 - acc: 0.8149 - val_loss: 1.7917 - val_acc: 0.5344\n",
            "Epoch 16/100\n",
            " - 3s - loss: 0.4703 - acc: 0.8363 - val_loss: 1.8848 - val_acc: 0.5303\n",
            "Epoch 17/100\n",
            " - 3s - loss: 0.4337 - acc: 0.8465 - val_loss: 2.0279 - val_acc: 0.5269\n",
            "Epoch 18/100\n",
            " - 3s - loss: 0.4091 - acc: 0.8540 - val_loss: 2.1059 - val_acc: 0.5224\n",
            "Epoch 19/100\n",
            " - 3s - loss: 0.3845 - acc: 0.8648 - val_loss: 2.2063 - val_acc: 0.5194\n",
            "Epoch 20/100\n",
            " - 3s - loss: 0.3395 - acc: 0.8821 - val_loss: 2.1912 - val_acc: 0.5248\n",
            "Epoch 21/100\n",
            " - 3s - loss: 0.3154 - acc: 0.8886 - val_loss: 2.3091 - val_acc: 0.5298\n",
            "Epoch 22/100\n",
            " - 3s - loss: 0.2860 - acc: 0.8997 - val_loss: 2.4465 - val_acc: 0.5267\n",
            "Epoch 23/100\n",
            " - 3s - loss: 0.2834 - acc: 0.9005 - val_loss: 2.5006 - val_acc: 0.5180\n",
            "Epoch 24/100\n",
            " - 3s - loss: 0.2718 - acc: 0.9054 - val_loss: 2.5097 - val_acc: 0.5309\n",
            "Epoch 25/100\n",
            " - 3s - loss: 0.2330 - acc: 0.9186 - val_loss: 2.6344 - val_acc: 0.5282\n",
            "Epoch 26/100\n",
            " - 3s - loss: 0.2344 - acc: 0.9191 - val_loss: 2.6488 - val_acc: 0.5327\n",
            "Epoch 27/100\n",
            " - 3s - loss: 0.2213 - acc: 0.9236 - val_loss: 2.7368 - val_acc: 0.5213\n",
            "Epoch 28/100\n",
            " - 3s - loss: 0.2070 - acc: 0.9287 - val_loss: 2.8173 - val_acc: 0.5283\n",
            "Epoch 29/100\n",
            " - 3s - loss: 0.1853 - acc: 0.9356 - val_loss: 2.9258 - val_acc: 0.5257\n",
            "Epoch 30/100\n",
            " - 3s - loss: 0.1816 - acc: 0.9378 - val_loss: 2.9158 - val_acc: 0.5219\n",
            "Epoch 31/100\n",
            " - 3s - loss: 0.1945 - acc: 0.9334 - val_loss: 2.9253 - val_acc: 0.5226\n",
            "Epoch 32/100\n",
            " - 3s - loss: 0.1914 - acc: 0.9343 - val_loss: 3.0370 - val_acc: 0.5256\n",
            "Epoch 33/100\n",
            " - 3s - loss: 0.1763 - acc: 0.9395 - val_loss: 3.1034 - val_acc: 0.5261\n",
            "Epoch 34/100\n",
            " - 3s - loss: 0.1801 - acc: 0.9384 - val_loss: 3.1655 - val_acc: 0.5255\n",
            "Epoch 35/100\n",
            " - 3s - loss: 0.1505 - acc: 0.9475 - val_loss: 3.2639 - val_acc: 0.5315\n",
            "Epoch 36/100\n",
            " - 3s - loss: 0.1335 - acc: 0.9557 - val_loss: 3.2539 - val_acc: 0.5216\n",
            "Epoch 37/100\n",
            " - 3s - loss: 0.1643 - acc: 0.9438 - val_loss: 3.2354 - val_acc: 0.5241\n",
            "Epoch 38/100\n",
            " - 3s - loss: 0.1586 - acc: 0.9460 - val_loss: 3.2298 - val_acc: 0.5231\n",
            "Epoch 39/100\n",
            " - 3s - loss: 0.1345 - acc: 0.9544 - val_loss: 3.2913 - val_acc: 0.5271\n",
            "Epoch 40/100\n",
            " - 3s - loss: 0.1260 - acc: 0.9558 - val_loss: 3.4303 - val_acc: 0.5307\n",
            "Epoch 41/100\n",
            " - 3s - loss: 0.1305 - acc: 0.9560 - val_loss: 3.4372 - val_acc: 0.5233\n",
            "Epoch 42/100\n",
            " - 3s - loss: 0.1408 - acc: 0.9530 - val_loss: 3.3077 - val_acc: 0.5292\n",
            "Epoch 43/100\n",
            " - 3s - loss: 0.1386 - acc: 0.9532 - val_loss: 3.4705 - val_acc: 0.5227\n",
            "Epoch 44/100\n",
            " - 3s - loss: 0.1180 - acc: 0.9605 - val_loss: 3.5923 - val_acc: 0.5328\n",
            "Epoch 45/100\n",
            " - 3s - loss: 0.1147 - acc: 0.9610 - val_loss: 3.5409 - val_acc: 0.5332\n",
            "Epoch 46/100\n",
            " - 3s - loss: 0.1274 - acc: 0.9571 - val_loss: 3.5113 - val_acc: 0.5318\n",
            "Epoch 47/100\n",
            " - 3s - loss: 0.1184 - acc: 0.9601 - val_loss: 3.5415 - val_acc: 0.5280\n",
            "Epoch 48/100\n",
            " - 3s - loss: 0.1288 - acc: 0.9562 - val_loss: 3.5695 - val_acc: 0.5317\n",
            "Epoch 49/100\n",
            " - 3s - loss: 0.1212 - acc: 0.9598 - val_loss: 3.5833 - val_acc: 0.5288\n",
            "Epoch 50/100\n",
            " - 3s - loss: 0.1062 - acc: 0.9645 - val_loss: 3.5528 - val_acc: 0.5339\n",
            "Epoch 51/100\n",
            " - 3s - loss: 0.1188 - acc: 0.9608 - val_loss: 3.4789 - val_acc: 0.5261\n",
            "Epoch 52/100\n",
            " - 3s - loss: 0.1026 - acc: 0.9650 - val_loss: 3.6067 - val_acc: 0.5249\n",
            "Epoch 53/100\n",
            " - 3s - loss: 0.1125 - acc: 0.9627 - val_loss: 3.6709 - val_acc: 0.5303\n",
            "Epoch 54/100\n",
            " - 3s - loss: 0.1200 - acc: 0.9607 - val_loss: 3.5032 - val_acc: 0.5303\n",
            "Epoch 55/100\n",
            " - 3s - loss: 0.0920 - acc: 0.9694 - val_loss: 3.5809 - val_acc: 0.5336\n",
            "Epoch 56/100\n",
            " - 3s - loss: 0.0960 - acc: 0.9683 - val_loss: 3.6496 - val_acc: 0.5281\n",
            "Epoch 57/100\n",
            " - 3s - loss: 0.0853 - acc: 0.9722 - val_loss: 3.7090 - val_acc: 0.5252\n",
            "Epoch 58/100\n",
            " - 3s - loss: 0.0975 - acc: 0.9679 - val_loss: 3.7205 - val_acc: 0.5255\n",
            "Epoch 59/100\n",
            " - 3s - loss: 0.1129 - acc: 0.9616 - val_loss: 3.6470 - val_acc: 0.5270\n",
            "Epoch 60/100\n",
            " - 3s - loss: 0.1050 - acc: 0.9660 - val_loss: 3.6764 - val_acc: 0.5323\n",
            "Epoch 61/100\n",
            " - 3s - loss: 0.0889 - acc: 0.9702 - val_loss: 3.8438 - val_acc: 0.5224\n",
            "Epoch 62/100\n",
            " - 3s - loss: 0.0713 - acc: 0.9761 - val_loss: 3.9030 - val_acc: 0.5321\n",
            "Epoch 63/100\n",
            " - 3s - loss: 0.1120 - acc: 0.9639 - val_loss: 3.7011 - val_acc: 0.5242\n",
            "Epoch 64/100\n",
            " - 3s - loss: 0.0937 - acc: 0.9693 - val_loss: 3.7966 - val_acc: 0.5305\n",
            "Epoch 65/100\n",
            " - 3s - loss: 0.1026 - acc: 0.9658 - val_loss: 3.7542 - val_acc: 0.5292\n",
            "Epoch 66/100\n",
            " - 3s - loss: 0.0875 - acc: 0.9711 - val_loss: 3.7851 - val_acc: 0.5300\n",
            "Epoch 67/100\n",
            " - 3s - loss: 0.0731 - acc: 0.9754 - val_loss: 3.8164 - val_acc: 0.5351\n",
            "Epoch 68/100\n",
            " - 3s - loss: 0.0997 - acc: 0.9686 - val_loss: 3.7320 - val_acc: 0.5261\n",
            "Epoch 69/100\n",
            " - 3s - loss: 0.1041 - acc: 0.9667 - val_loss: 3.7452 - val_acc: 0.5305\n",
            "Epoch 70/100\n",
            " - 3s - loss: 0.0675 - acc: 0.9772 - val_loss: 3.8579 - val_acc: 0.5331\n",
            "Epoch 71/100\n",
            " - 3s - loss: 0.1003 - acc: 0.9685 - val_loss: 3.7691 - val_acc: 0.5247\n",
            "Epoch 72/100\n",
            " - 3s - loss: 0.0879 - acc: 0.9714 - val_loss: 3.8623 - val_acc: 0.5262\n",
            "Epoch 73/100\n",
            " - 3s - loss: 0.0623 - acc: 0.9793 - val_loss: 3.9649 - val_acc: 0.5323\n",
            "Epoch 74/100\n",
            " - 3s - loss: 0.0780 - acc: 0.9749 - val_loss: 3.8754 - val_acc: 0.5270\n",
            "Epoch 75/100\n",
            " - 3s - loss: 0.0881 - acc: 0.9716 - val_loss: 3.8081 - val_acc: 0.5275\n",
            "Epoch 76/100\n",
            " - 3s - loss: 0.0647 - acc: 0.9788 - val_loss: 3.9118 - val_acc: 0.5306\n",
            "Epoch 77/100\n",
            " - 3s - loss: 0.0678 - acc: 0.9774 - val_loss: 3.9547 - val_acc: 0.5287\n",
            "Epoch 78/100\n",
            " - 3s - loss: 0.0973 - acc: 0.9696 - val_loss: 3.7800 - val_acc: 0.5289\n",
            "Epoch 79/100\n",
            " - 3s - loss: 0.0843 - acc: 0.9731 - val_loss: 3.8493 - val_acc: 0.5299\n",
            "Epoch 80/100\n",
            " - 3s - loss: 0.0588 - acc: 0.9811 - val_loss: 3.9193 - val_acc: 0.5293\n",
            "Epoch 81/100\n",
            " - 3s - loss: 0.0715 - acc: 0.9770 - val_loss: 3.8132 - val_acc: 0.5361\n",
            "Epoch 82/100\n",
            " - 3s - loss: 0.0938 - acc: 0.9702 - val_loss: 3.7828 - val_acc: 0.5258\n",
            "Epoch 83/100\n",
            " - 3s - loss: 0.0717 - acc: 0.9766 - val_loss: 3.9819 - val_acc: 0.5256\n",
            "Epoch 84/100\n",
            " - 3s - loss: 0.0619 - acc: 0.9793 - val_loss: 4.0337 - val_acc: 0.5300\n",
            "Epoch 85/100\n",
            " - 3s - loss: 0.0726 - acc: 0.9775 - val_loss: 3.9940 - val_acc: 0.5254\n",
            "Epoch 86/100\n",
            " - 3s - loss: 0.1008 - acc: 0.9680 - val_loss: 3.8587 - val_acc: 0.5291\n",
            "Epoch 87/100\n",
            " - 3s - loss: 0.0619 - acc: 0.9799 - val_loss: 4.0875 - val_acc: 0.5306\n",
            "Epoch 88/100\n",
            " - 3s - loss: 0.0689 - acc: 0.9771 - val_loss: 4.0464 - val_acc: 0.5305\n",
            "Epoch 89/100\n",
            " - 3s - loss: 0.0561 - acc: 0.9819 - val_loss: 4.0476 - val_acc: 0.5293\n",
            "Epoch 90/100\n",
            " - 3s - loss: 0.0778 - acc: 0.9757 - val_loss: 4.0429 - val_acc: 0.5279\n",
            "Epoch 91/100\n",
            " - 3s - loss: 0.0633 - acc: 0.9802 - val_loss: 4.0129 - val_acc: 0.5246\n",
            "Epoch 92/100\n",
            " - 3s - loss: 0.0692 - acc: 0.9781 - val_loss: 3.9561 - val_acc: 0.5242\n",
            "Epoch 93/100\n",
            " - 3s - loss: 0.0882 - acc: 0.9727 - val_loss: 3.9326 - val_acc: 0.5243\n",
            "Epoch 94/100\n",
            " - 3s - loss: 0.0613 - acc: 0.9795 - val_loss: 3.9456 - val_acc: 0.5370\n",
            "Epoch 95/100\n",
            " - 3s - loss: 0.0409 - acc: 0.9864 - val_loss: 4.1370 - val_acc: 0.5319\n",
            "Epoch 96/100\n",
            " - 3s - loss: 0.0695 - acc: 0.9778 - val_loss: 4.0472 - val_acc: 0.5319\n",
            "Epoch 97/100\n",
            " - 3s - loss: 0.0903 - acc: 0.9715 - val_loss: 3.8629 - val_acc: 0.5309\n",
            "Epoch 98/100\n",
            " - 3s - loss: 0.0563 - acc: 0.9810 - val_loss: 4.0693 - val_acc: 0.5278\n",
            "Epoch 99/100\n",
            " - 3s - loss: 0.0548 - acc: 0.9826 - val_loss: 4.0078 - val_acc: 0.5336\n",
            "Epoch 100/100\n",
            " - 3s - loss: 0.0621 - acc: 0.9805 - val_loss: 4.0187 - val_acc: 0.5304\n"
          ],
          "name": "stdout"
        },
        {
          "output_type": "execute_result",
          "data": {
            "text/plain": [
              "<keras.callbacks.History at 0x7f0680de9a20>"
            ]
          },
          "metadata": {
            "tags": []
          },
          "execution_count": 9
        }
      ]
    },
    {
      "metadata": {
        "id": "oD4etQOstAAX",
        "colab_type": "code",
        "colab": {
          "base_uri": "https://localhost:8080/",
          "height": 706
        },
        "outputId": "d69eac33-eb23-40c0-d3c2-efcdeeca61e7"
      },
      "cell_type": "code",
      "source": [
        "import matplotlib.pyplot as plt\n",
        "\n",
        "\n",
        "train_loss = model.history.history[\"loss\"]\n",
        "valid_loss = model.history.history[\"val_loss\"]\n",
        "\n",
        "train_acc = model.history.history[\"acc\"]\n",
        "valid_acc = model.history.history[\"val_acc\"]\n",
        "\n",
        "plt.plot(range(len(train_loss)), train_loss, label=\"train loss\")\n",
        "plt.plot(range(len(valid_loss)), valid_loss, label=\"valid loss\")\n",
        "plt.legend()\n",
        "plt.title(\"Loss\")\n",
        "plt.show()\n",
        "\n",
        "plt.plot(range(len(train_acc)), train_acc, label=\"train accuracy\")\n",
        "plt.plot(range(len(valid_acc)), valid_acc, label=\"valid accuracy\")\n",
        "plt.legend()\n",
        "plt.title(\"Accuracy\")\n",
        "plt.show()"
      ],
      "execution_count": 10,
      "outputs": [
        {
          "output_type": "display_data",
          "data": {
            "image/png": "[encoded data removed]",
            "text/plain": [
              "<Figure size 576x396 with 1 Axes>"
            ]
          },
          "metadata": {
            "tags": []
          }
        },
        {
          "output_type": "display_data",
          "data": {
            "image/png": "[encoded data removed]",
            "text/plain": [
              "<Figure size 576x396 with 1 Axes>"
            ]
          },
          "metadata": {
            "tags": []
          }
        }
      ]
    }
  ]
}