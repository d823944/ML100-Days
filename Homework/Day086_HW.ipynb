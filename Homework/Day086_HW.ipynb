{
  "nbformat": 4,
  "nbformat_minor": 0,
  "metadata": {
    "colab": {
      "name": "Day086_HW.ipynb",
      "version": "0.3.2",
      "provenance": [],
      "collapsed_sections": [],
      "include_colab_link": true
    },
    "kernelspec": {
      "name": "python3",
      "display_name": "Python 3"
    }
  },
  "cells": [
    {
      "cell_type": "markdown",
      "metadata": {
        "id": "view-in-github",
        "colab_type": "text"
      },
      "source": [
        "<a href=\"https://colab.research.google.com/github/d823944/ML100-Days/blob/master/Homework/Day086_HW.ipynb\" target=\"_parent\"><img src=\"https://colab.research.google.com/assets/colab-badge.svg\" alt=\"Open In Colab\"/></a>"
      ]
    },
    {
      "metadata": {
        "id": "OqTmortvIWvJ",
        "colab_type": "text"
      },
      "cell_type": "markdown",
      "source": [
        "## Work\n",
        "1. 試比較 save_best_only 與否的差異\n",
        "2. 請僅存入將 save_weights_only 設定為 True, 並嘗試 reset ipynb 並將模型與權重重新建回並預測 x_test"
      ]
    },
    {
      "metadata": {
        "id": "tjOFzLv-IWTZ",
        "colab_type": "code",
        "colab": {
          "base_uri": "https://localhost:8080/",
          "height": 52
        },
        "outputId": "b802c607-cc64-4181-8e90-b6b480e0830f"
      },
      "cell_type": "code",
      "source": [
        "import os\n",
        "import keras\n",
        "import matplotlib.pyplot as plt\n",
        "%matplotlib inline\n",
        "\n",
        "# Check GPU\n",
        "import tensorflow as tf\n",
        "tf.test.gpu_device_name()"
      ],
      "execution_count": 1,
      "outputs": [
        {
          "output_type": "stream",
          "text": [
            "Using TensorFlow backend.\n"
          ],
          "name": "stderr"
        },
        {
          "output_type": "execute_result",
          "data": {
            "text/plain": [
              "''"
            ]
          },
          "metadata": {
            "tags": []
          },
          "execution_count": 1
        }
      ]
    },
    {
      "metadata": {
        "id": "QRKeVrj3Iasr",
        "colab_type": "code",
        "colab": {
          "base_uri": "https://localhost:8080/",
          "height": 52
        },
        "outputId": "3c1d2544-34e6-4813-a795-962b6fdf78f5"
      },
      "cell_type": "code",
      "source": [
        "## 資料前處理\n",
        "def preproc_x(x, flatten=True):\n",
        "    x = x / 255.\n",
        "    if flatten:\n",
        "        x = x.reshape((len(x), -1))\n",
        "    return x\n",
        "\n",
        "def preproc_y(y, num_classes=10):\n",
        "    if y.shape[-1] == 1:\n",
        "        y = keras.utils.to_categorical(y, num_classes)\n",
        "    return y \n",
        "\n",
        "train, test = keras.datasets.cifar10.load_data()\n",
        "\n",
        "x_train, y_train = train\n",
        "x_test, y_test = test\n",
        "\n",
        "# Preproc the inputs\n",
        "x_train = preproc_x(x_train)\n",
        "x_test = preproc_x(x_test)\n",
        "\n",
        "# Preprc the outputs\n",
        "y_train = preproc_y(y_train)\n",
        "y_test = preproc_y(y_test)"
      ],
      "execution_count": 2,
      "outputs": [
        {
          "output_type": "stream",
          "text": [
            "Downloading data from https://www.cs.toronto.edu/~kriz/cifar-10-python.tar.gz\n",
            "170500096/170498071 [==============================] - 24s 0us/step\n"
          ],
          "name": "stdout"
        }
      ]
    },
    {
      "metadata": {
        "id": "Hnu7NjTyIhf0",
        "colab_type": "code",
        "colab": {}
      },
      "cell_type": "code",
      "source": [
        "from keras.layers import BatchNormalization\n",
        "def build_mlp(input_shape, output_units=10, num_neurons=[512, 256, 128]):\n",
        "    input_layer = keras.layers.Input(input_shape)\n",
        "    \n",
        "    for i, n_units in enumerate(num_neurons):\n",
        "        if i == 0:\n",
        "            x = keras.layers.Dense(units=n_units, \n",
        "                                   activation=\"relu\", \n",
        "                                   name=\"hidden_layer\"+str(i+1))(input_layer)\n",
        "            x = BatchNormalization()(x)\n",
        "        else:\n",
        "            x = keras.layers.Dense(units=n_units, \n",
        "                                   activation=\"relu\", \n",
        "                                   name=\"hidden_layer\"+str(i+1))(x)\n",
        "            x = BatchNormalization()(x)\n",
        "    \n",
        "    out = keras.layers.Dense(units=output_units, activation=\"softmax\", name=\"output\")(x)\n",
        "    \n",
        "    model = keras.models.Model(inputs=[input_layer], outputs=[out])\n",
        "    return model"
      ],
      "execution_count": 0,
      "outputs": []
    },
    {
      "metadata": {
        "id": "TGBZqhQQIrGH",
        "colab_type": "code",
        "colab": {
          "base_uri": "https://localhost:8080/",
          "height": 2785
        },
        "outputId": "9f8c9ac4-3f6a-48a3-813f-6cc291c05d3e"
      },
      "cell_type": "code",
      "source": [
        "from keras.callbacks import ModelCheckpoint\n",
        "\n",
        "## 超參數設定\n",
        "LEARNING_RATE = 1e-3\n",
        "EPOCHS = 50\n",
        "BATCH_SIZE = 1024\n",
        "MOMENTUM = 0.95\n",
        "\n",
        "# 載入 Callbacks\n",
        "model_ckpt = ModelCheckpoint(filepath=\"./tmp.h5\", \n",
        "                             monitor=\"val_loss\", \n",
        "                             save_best_only=False)\n",
        "\n",
        "model = build_mlp(input_shape=x_train.shape[1:])\n",
        "model.summary()\n",
        "optimizer = keras.optimizers.SGD(lr=LEARNING_RATE, nesterov=True, momentum=MOMENTUM)\n",
        "model.compile(loss=\"categorical_crossentropy\", metrics=[\"accuracy\"], optimizer=optimizer)\n",
        "\n",
        "model.fit(x_train, y_train, \n",
        "          epochs=EPOCHS, \n",
        "          batch_size=BATCH_SIZE, \n",
        "          validation_data=(x_test, y_test), \n",
        "          shuffle=True,\n",
        "          callbacks=[model_ckpt]\n",
        "         )\n",
        "\n",
        "# Collect results\n",
        "train_loss = model.history.history[\"loss\"]\n",
        "valid_loss = model.history.history[\"val_loss\"]\n",
        "train_acc = model.history.history[\"acc\"]\n",
        "valid_acc = model.history.history[\"val_acc\"]\n",
        "\n",
        "# Load back\n",
        "model = keras.models.load_model(\"./tmp.h5\")\n",
        "loss_loadback, acc_loadback = model.evaluate(x_test, y_test)\n",
        "\n",
        "plt.plot(range(len(train_loss)), train_loss, label=\"train loss\")\n",
        "plt.plot(range(len(valid_loss)), valid_loss, label=\"valid loss\")\n",
        "plt.hlines(y=loss_loadback, xmin=0, xmax=len(train_loss), colors='r', linestyles='--')\n",
        "plt.legend()\n",
        "plt.title(\"Loss\")\n",
        "plt.show()\n",
        "\n",
        "plt.plot(range(len(train_acc)), train_acc, label=\"train accuracy\")\n",
        "plt.plot(range(len(valid_acc)), valid_acc, label=\"valid accuracy\")\n",
        "plt.hlines(y=acc_loadback, xmin=0, xmax=len(train_loss), colors='r', linestyles='--')\n",
        "plt.legend()\n",
        "plt.title(\"Accuracy\")\n",
        "plt.show()"
      ],
      "execution_count": 6,
      "outputs": [
        {
          "output_type": "stream",
          "text": [
            "_________________________________________________________________\n",
            "Layer (type)                 Output Shape              Param #   \n",
            "=================================================================\n",
            "input_2 (InputLayer)         (None, 3072)              0         \n",
            "_________________________________________________________________\n",
            "hidden_layer1 (Dense)        (None, 512)               1573376   \n",
            "_________________________________________________________________\n",
            "batch_normalization_4 (Batch (None, 512)               2048      \n",
            "_________________________________________________________________\n",
            "hidden_layer2 (Dense)        (None, 256)               131328    \n",
            "_________________________________________________________________\n",
            "batch_normalization_5 (Batch (None, 256)               1024      \n",
            "_________________________________________________________________\n",
            "hidden_layer3 (Dense)        (None, 128)               32896     \n",
            "_________________________________________________________________\n",
            "batch_normalization_6 (Batch (None, 128)               512       \n",
            "_________________________________________________________________\n",
            "output (Dense)               (None, 10)                1290      \n",
            "=================================================================\n",
            "Total params: 1,742,474\n",
            "Trainable params: 1,740,682\n",
            "Non-trainable params: 1,792\n",
            "_________________________________________________________________\n",
            "Train on 50000 samples, validate on 10000 samples\n",
            "Epoch 1/50\n",
            "50000/50000 [==============================] - 10s 203us/step - loss: 2.2099 - acc: 0.2727 - val_loss: 2.1099 - val_acc: 0.3217\n",
            "Epoch 2/50\n",
            "50000/50000 [==============================] - 9s 185us/step - loss: 1.7272 - acc: 0.3933 - val_loss: 1.8494 - val_acc: 0.3698\n",
            "Epoch 3/50\n",
            "50000/50000 [==============================] - 9s 185us/step - loss: 1.6053 - acc: 0.4350 - val_loss: 1.6996 - val_acc: 0.4029\n",
            "Epoch 4/50\n",
            "50000/50000 [==============================] - 9s 187us/step - loss: 1.5332 - acc: 0.4601 - val_loss: 1.6257 - val_acc: 0.4283\n",
            "Epoch 5/50\n",
            "50000/50000 [==============================] - 9s 184us/step - loss: 1.4800 - acc: 0.4812 - val_loss: 1.6053 - val_acc: 0.4279\n",
            "Epoch 6/50\n",
            "50000/50000 [==============================] - 9s 184us/step - loss: 1.4348 - acc: 0.4959 - val_loss: 1.5668 - val_acc: 0.4437\n",
            "Epoch 7/50\n",
            "50000/50000 [==============================] - 9s 185us/step - loss: 1.3973 - acc: 0.5094 - val_loss: 1.5394 - val_acc: 0.4538\n",
            "Epoch 8/50\n",
            "50000/50000 [==============================] - 9s 184us/step - loss: 1.3628 - acc: 0.5232 - val_loss: 1.5509 - val_acc: 0.4455\n",
            "Epoch 9/50\n",
            "50000/50000 [==============================] - 9s 185us/step - loss: 1.3310 - acc: 0.5353 - val_loss: 1.5231 - val_acc: 0.4628\n",
            "Epoch 10/50\n",
            "50000/50000 [==============================] - 9s 189us/step - loss: 1.3018 - acc: 0.5449 - val_loss: 1.5156 - val_acc: 0.4645\n",
            "Epoch 11/50\n",
            "50000/50000 [==============================] - 9s 184us/step - loss: 1.2729 - acc: 0.5573 - val_loss: 1.4887 - val_acc: 0.4709\n",
            "Epoch 12/50\n",
            "50000/50000 [==============================] - 9s 184us/step - loss: 1.2445 - acc: 0.5645 - val_loss: 1.4784 - val_acc: 0.4740\n",
            "Epoch 13/50\n",
            "50000/50000 [==============================] - 9s 184us/step - loss: 1.2199 - acc: 0.5750 - val_loss: 1.4760 - val_acc: 0.4743\n",
            "Epoch 14/50\n",
            "50000/50000 [==============================] - 9s 184us/step - loss: 1.1961 - acc: 0.5852 - val_loss: 1.4642 - val_acc: 0.4778\n",
            "Epoch 15/50\n",
            "50000/50000 [==============================] - 9s 185us/step - loss: 1.1712 - acc: 0.5940 - val_loss: 1.4634 - val_acc: 0.4780\n",
            "Epoch 16/50\n",
            "50000/50000 [==============================] - 9s 184us/step - loss: 1.1474 - acc: 0.6042 - val_loss: 1.4596 - val_acc: 0.4834\n",
            "Epoch 17/50\n",
            "50000/50000 [==============================] - 9s 185us/step - loss: 1.1258 - acc: 0.6109 - val_loss: 1.4641 - val_acc: 0.4842\n",
            "Epoch 18/50\n",
            "50000/50000 [==============================] - 9s 183us/step - loss: 1.1014 - acc: 0.6209 - val_loss: 1.4557 - val_acc: 0.4792\n",
            "Epoch 19/50\n",
            "50000/50000 [==============================] - 10s 192us/step - loss: 1.0784 - acc: 0.6295 - val_loss: 1.4632 - val_acc: 0.4837\n",
            "Epoch 20/50\n",
            "50000/50000 [==============================] - 9s 185us/step - loss: 1.0590 - acc: 0.6378 - val_loss: 1.4548 - val_acc: 0.4825\n",
            "Epoch 21/50\n",
            "50000/50000 [==============================] - 9s 185us/step - loss: 1.0357 - acc: 0.6464 - val_loss: 1.4511 - val_acc: 0.4918\n",
            "Epoch 22/50\n",
            "50000/50000 [==============================] - 9s 185us/step - loss: 1.0136 - acc: 0.6546 - val_loss: 1.4624 - val_acc: 0.4872\n",
            "Epoch 23/50\n",
            "50000/50000 [==============================] - 9s 185us/step - loss: 0.9933 - acc: 0.6619 - val_loss: 1.4665 - val_acc: 0.4863\n",
            "Epoch 24/50\n",
            "50000/50000 [==============================] - 9s 186us/step - loss: 0.9725 - acc: 0.6709 - val_loss: 1.4634 - val_acc: 0.4872\n",
            "Epoch 25/50\n",
            "50000/50000 [==============================] - 9s 184us/step - loss: 0.9535 - acc: 0.6798 - val_loss: 1.4635 - val_acc: 0.4924\n",
            "Epoch 26/50\n",
            "50000/50000 [==============================] - 9s 185us/step - loss: 0.9306 - acc: 0.6870 - val_loss: 1.4790 - val_acc: 0.4867\n",
            "Epoch 27/50\n",
            "50000/50000 [==============================] - 9s 184us/step - loss: 0.9088 - acc: 0.6960 - val_loss: 1.4763 - val_acc: 0.4854\n",
            "Epoch 28/50\n",
            "50000/50000 [==============================] - 9s 184us/step - loss: 0.8922 - acc: 0.7031 - val_loss: 1.4804 - val_acc: 0.4913\n",
            "Epoch 29/50\n",
            "50000/50000 [==============================] - 9s 184us/step - loss: 0.8726 - acc: 0.7099 - val_loss: 1.4914 - val_acc: 0.4890\n",
            "Epoch 30/50\n",
            "50000/50000 [==============================] - 9s 186us/step - loss: 0.8549 - acc: 0.7176 - val_loss: 1.4967 - val_acc: 0.4871\n",
            "Epoch 31/50\n",
            "50000/50000 [==============================] - 9s 184us/step - loss: 0.8299 - acc: 0.7253 - val_loss: 1.5037 - val_acc: 0.4871\n",
            "Epoch 32/50\n",
            "50000/50000 [==============================] - 9s 184us/step - loss: 0.8127 - acc: 0.7353 - val_loss: 1.5009 - val_acc: 0.4896\n",
            "Epoch 33/50\n",
            "50000/50000 [==============================] - 9s 185us/step - loss: 0.7919 - acc: 0.7429 - val_loss: 1.5063 - val_acc: 0.4928\n",
            "Epoch 34/50\n",
            "50000/50000 [==============================] - 9s 183us/step - loss: 0.7716 - acc: 0.7489 - val_loss: 1.5330 - val_acc: 0.4875\n",
            "Epoch 35/50\n",
            "50000/50000 [==============================] - 9s 184us/step - loss: 0.7549 - acc: 0.7573 - val_loss: 1.5291 - val_acc: 0.4895\n",
            "Epoch 36/50\n",
            "50000/50000 [==============================] - 9s 184us/step - loss: 0.7361 - acc: 0.7638 - val_loss: 1.5406 - val_acc: 0.4863\n",
            "Epoch 37/50\n",
            "50000/50000 [==============================] - 9s 184us/step - loss: 0.7159 - acc: 0.7717 - val_loss: 1.5446 - val_acc: 0.4931\n",
            "Epoch 38/50\n",
            "50000/50000 [==============================] - 9s 183us/step - loss: 0.6966 - acc: 0.7793 - val_loss: 1.5719 - val_acc: 0.4882\n",
            "Epoch 39/50\n",
            "50000/50000 [==============================] - 9s 184us/step - loss: 0.6780 - acc: 0.7872 - val_loss: 1.5463 - val_acc: 0.4909\n",
            "Epoch 40/50\n",
            "50000/50000 [==============================] - 9s 184us/step - loss: 0.6620 - acc: 0.7937 - val_loss: 1.5771 - val_acc: 0.4868\n",
            "Epoch 41/50\n",
            "50000/50000 [==============================] - 9s 184us/step - loss: 0.6434 - acc: 0.8020 - val_loss: 1.5930 - val_acc: 0.4791\n",
            "Epoch 42/50\n",
            "50000/50000 [==============================] - 9s 184us/step - loss: 0.6242 - acc: 0.8077 - val_loss: 1.5939 - val_acc: 0.4902\n",
            "Epoch 43/50\n",
            "50000/50000 [==============================] - 9s 189us/step - loss: 0.6055 - acc: 0.8153 - val_loss: 1.6087 - val_acc: 0.4862\n",
            "Epoch 44/50\n",
            "50000/50000 [==============================] - 9s 184us/step - loss: 0.5865 - acc: 0.8239 - val_loss: 1.6177 - val_acc: 0.4867\n",
            "Epoch 45/50\n",
            "50000/50000 [==============================] - 9s 185us/step - loss: 0.5719 - acc: 0.8306 - val_loss: 1.6289 - val_acc: 0.4903\n",
            "Epoch 46/50\n",
            "50000/50000 [==============================] - 9s 184us/step - loss: 0.5534 - acc: 0.8362 - val_loss: 1.6399 - val_acc: 0.4795\n",
            "Epoch 47/50\n",
            "50000/50000 [==============================] - 9s 184us/step - loss: 0.5360 - acc: 0.8445 - val_loss: 1.6454 - val_acc: 0.4895\n",
            "Epoch 48/50\n",
            "50000/50000 [==============================] - 9s 184us/step - loss: 0.5192 - acc: 0.8499 - val_loss: 1.6643 - val_acc: 0.4864\n",
            "Epoch 49/50\n",
            "50000/50000 [==============================] - 9s 184us/step - loss: 0.5020 - acc: 0.8566 - val_loss: 1.6689 - val_acc: 0.4845\n",
            "Epoch 50/50\n",
            "50000/50000 [==============================] - 9s 185us/step - loss: 0.4845 - acc: 0.8649 - val_loss: 1.7002 - val_acc: 0.4819\n",
            "10000/10000 [==============================] - 2s 169us/step\n"
          ],
          "name": "stdout"
        },
        {
          "output_type": "display_data",
          "data": {
            "image/png": "[encoded data removed]",
            "text/plain": [
              "<Figure size 432x288 with 1 Axes>"
            ]
          },
          "metadata": {
            "tags": []
          }
        },
        {
          "output_type": "display_data",
          "data": {
            "image/png": "[encoded data removed]",
            "text/plain": [
              "<Figure size 432x288 with 1 Axes>"
            ]
          },
          "metadata": {
            "tags": []
          }
        }
      ]
    },
    {
      "metadata": {
        "id": "68lTEjqQI58-",
        "colab_type": "code",
        "colab": {
          "base_uri": "https://localhost:8080/",
          "height": 2785
        },
        "outputId": "864b4d6c-fb07-465f-895a-69791999fb5e"
      },
      "cell_type": "code",
      "source": [
        "from keras.callbacks import ModelCheckpoint\n",
        "\n",
        "## 超參數設定\n",
        "LEARNING_RATE = 1e-3\n",
        "EPOCHS = 50\n",
        "BATCH_SIZE = 1024\n",
        "MOMENTUM = 0.95\n",
        "\n",
        "# 載入 Callbacks\n",
        "model_ckpt = ModelCheckpoint(filepath=\"./tmp.h5\", \n",
        "                             monitor=\"val_loss\", \n",
        "                             save_weights_only=False)\n",
        "\n",
        "model = build_mlp(input_shape=x_train.shape[1:])\n",
        "model.summary()\n",
        "optimizer = keras.optimizers.SGD(lr=LEARNING_RATE, nesterov=True, momentum=MOMENTUM)\n",
        "model.compile(loss=\"categorical_crossentropy\", metrics=[\"accuracy\"], optimizer=optimizer)\n",
        "\n",
        "model.fit(x_train, y_train, \n",
        "          epochs=EPOCHS, \n",
        "          batch_size=BATCH_SIZE, \n",
        "          validation_data=(x_test, y_test), \n",
        "          shuffle=True,\n",
        "          callbacks=[model_ckpt]\n",
        "         )\n",
        "\n",
        "# Collect results\n",
        "train_loss = model.history.history[\"loss\"]\n",
        "valid_loss = model.history.history[\"val_loss\"]\n",
        "train_acc = model.history.history[\"acc\"]\n",
        "valid_acc = model.history.history[\"val_acc\"]\n",
        "\n",
        "# Load back\n",
        "model = keras.models.load_model(\"./tmp.h5\")\n",
        "loss_loadback, acc_loadback = model.evaluate(x_test, y_test)\n",
        "\n",
        "plt.plot(range(len(train_loss)), train_loss, label=\"train loss\")\n",
        "plt.plot(range(len(valid_loss)), valid_loss, label=\"valid loss\")\n",
        "plt.hlines(y=loss_loadback, xmin=0, xmax=len(train_loss), colors='r', linestyles='--')\n",
        "plt.legend()\n",
        "plt.title(\"Loss\")\n",
        "plt.show()\n",
        "\n",
        "plt.plot(range(len(train_acc)), train_acc, label=\"train accuracy\")\n",
        "plt.plot(range(len(valid_acc)), valid_acc, label=\"valid accuracy\")\n",
        "plt.hlines(y=acc_loadback, xmin=0, xmax=len(train_loss), colors='r', linestyles='--')\n",
        "plt.legend()\n",
        "plt.title(\"Accuracy\")\n",
        "plt.show()"
      ],
      "execution_count": 7,
      "outputs": [
        {
          "output_type": "stream",
          "text": [
            "_________________________________________________________________\n",
            "Layer (type)                 Output Shape              Param #   \n",
            "=================================================================\n",
            "input_3 (InputLayer)         (None, 3072)              0         \n",
            "_________________________________________________________________\n",
            "hidden_layer1 (Dense)        (None, 512)               1573376   \n",
            "_________________________________________________________________\n",
            "batch_normalization_7 (Batch (None, 512)               2048      \n",
            "_________________________________________________________________\n",
            "hidden_layer2 (Dense)        (None, 256)               131328    \n",
            "_________________________________________________________________\n",
            "batch_normalization_8 (Batch (None, 256)               1024      \n",
            "_________________________________________________________________\n",
            "hidden_layer3 (Dense)        (None, 128)               32896     \n",
            "_________________________________________________________________\n",
            "batch_normalization_9 (Batch (None, 128)               512       \n",
            "_________________________________________________________________\n",
            "output (Dense)               (None, 10)                1290      \n",
            "=================================================================\n",
            "Total params: 1,742,474\n",
            "Trainable params: 1,740,682\n",
            "Non-trainable params: 1,792\n",
            "_________________________________________________________________\n",
            "Train on 50000 samples, validate on 10000 samples\n",
            "Epoch 1/50\n",
            "50000/50000 [==============================] - 11s 216us/step - loss: 2.1971 - acc: 0.2719 - val_loss: 2.1041 - val_acc: 0.3230\n",
            "Epoch 2/50\n",
            "50000/50000 [==============================] - 9s 186us/step - loss: 1.7315 - acc: 0.3979 - val_loss: 1.7935 - val_acc: 0.3884\n",
            "Epoch 3/50\n",
            "50000/50000 [==============================] - 9s 187us/step - loss: 1.6070 - acc: 0.4395 - val_loss: 1.7013 - val_acc: 0.4154\n",
            "Epoch 4/50\n",
            "50000/50000 [==============================] - 10s 192us/step - loss: 1.5337 - acc: 0.4658 - val_loss: 1.6275 - val_acc: 0.4356\n",
            "Epoch 5/50\n",
            "50000/50000 [==============================] - 9s 187us/step - loss: 1.4792 - acc: 0.4854 - val_loss: 1.5986 - val_acc: 0.4409\n",
            "Epoch 6/50\n",
            "50000/50000 [==============================] - 9s 186us/step - loss: 1.4367 - acc: 0.5002 - val_loss: 1.5601 - val_acc: 0.4543\n",
            "Epoch 7/50\n",
            "50000/50000 [==============================] - 9s 186us/step - loss: 1.3965 - acc: 0.5160 - val_loss: 1.5629 - val_acc: 0.4527\n",
            "Epoch 8/50\n",
            "50000/50000 [==============================] - 9s 186us/step - loss: 1.3631 - acc: 0.5282 - val_loss: 1.5426 - val_acc: 0.4650\n",
            "Epoch 9/50\n",
            "50000/50000 [==============================] - 9s 188us/step - loss: 1.3300 - acc: 0.5413 - val_loss: 1.5115 - val_acc: 0.4700\n",
            "Epoch 10/50\n",
            "50000/50000 [==============================] - 9s 188us/step - loss: 1.3007 - acc: 0.5509 - val_loss: 1.5118 - val_acc: 0.4714\n",
            "Epoch 11/50\n",
            "50000/50000 [==============================] - 9s 188us/step - loss: 1.2731 - acc: 0.5602 - val_loss: 1.4903 - val_acc: 0.4757\n",
            "Epoch 12/50\n",
            "50000/50000 [==============================] - 9s 187us/step - loss: 1.2460 - acc: 0.5723 - val_loss: 1.4887 - val_acc: 0.4778\n",
            "Epoch 13/50\n",
            "50000/50000 [==============================] - 9s 186us/step - loss: 1.2199 - acc: 0.5804 - val_loss: 1.4939 - val_acc: 0.4782\n",
            "Epoch 14/50\n",
            "50000/50000 [==============================] - 9s 187us/step - loss: 1.1946 - acc: 0.5890 - val_loss: 1.4710 - val_acc: 0.4821\n",
            "Epoch 15/50\n",
            "50000/50000 [==============================] - 10s 192us/step - loss: 1.1702 - acc: 0.6002 - val_loss: 1.4725 - val_acc: 0.4804\n",
            "Epoch 16/50\n",
            "50000/50000 [==============================] - 9s 188us/step - loss: 1.1451 - acc: 0.6074 - val_loss: 1.4647 - val_acc: 0.4872\n",
            "Epoch 17/50\n",
            "50000/50000 [==============================] - 9s 186us/step - loss: 1.1225 - acc: 0.6175 - val_loss: 1.4743 - val_acc: 0.4817\n",
            "Epoch 18/50\n",
            "50000/50000 [==============================] - 9s 186us/step - loss: 1.1022 - acc: 0.6241 - val_loss: 1.4591 - val_acc: 0.4889\n",
            "Epoch 19/50\n",
            "50000/50000 [==============================] - 9s 186us/step - loss: 1.0780 - acc: 0.6350 - val_loss: 1.4695 - val_acc: 0.4856\n",
            "Epoch 20/50\n",
            "50000/50000 [==============================] - 9s 187us/step - loss: 1.0560 - acc: 0.6419 - val_loss: 1.4715 - val_acc: 0.4858\n",
            "Epoch 21/50\n",
            "50000/50000 [==============================] - 9s 186us/step - loss: 1.0345 - acc: 0.6505 - val_loss: 1.4633 - val_acc: 0.5000\n",
            "Epoch 22/50\n",
            "50000/50000 [==============================] - 9s 186us/step - loss: 1.0128 - acc: 0.6583 - val_loss: 1.4594 - val_acc: 0.4975\n",
            "Epoch 23/50\n",
            "50000/50000 [==============================] - 9s 186us/step - loss: 0.9913 - acc: 0.6673 - val_loss: 1.4556 - val_acc: 0.4960\n",
            "Epoch 24/50\n",
            "50000/50000 [==============================] - 9s 187us/step - loss: 0.9709 - acc: 0.6760 - val_loss: 1.4524 - val_acc: 0.4957\n",
            "Epoch 25/50\n",
            "50000/50000 [==============================] - 9s 187us/step - loss: 0.9496 - acc: 0.6838 - val_loss: 1.4732 - val_acc: 0.4913\n",
            "Epoch 26/50\n",
            "50000/50000 [==============================] - 9s 186us/step - loss: 0.9297 - acc: 0.6914 - val_loss: 1.4724 - val_acc: 0.4927\n",
            "Epoch 27/50\n",
            "50000/50000 [==============================] - 9s 186us/step - loss: 0.9091 - acc: 0.7006 - val_loss: 1.4687 - val_acc: 0.4968\n",
            "Epoch 28/50\n",
            "50000/50000 [==============================] - 9s 185us/step - loss: 0.8885 - acc: 0.7091 - val_loss: 1.4838 - val_acc: 0.4872\n",
            "Epoch 29/50\n",
            "50000/50000 [==============================] - 9s 186us/step - loss: 0.8693 - acc: 0.7150 - val_loss: 1.4785 - val_acc: 0.4987\n",
            "Epoch 30/50\n",
            "50000/50000 [==============================] - 9s 186us/step - loss: 0.8502 - acc: 0.7212 - val_loss: 1.5040 - val_acc: 0.4899\n",
            "Epoch 31/50\n",
            "50000/50000 [==============================] - 9s 186us/step - loss: 0.8304 - acc: 0.7311 - val_loss: 1.4913 - val_acc: 0.5003\n",
            "Epoch 32/50\n",
            "50000/50000 [==============================] - 9s 184us/step - loss: 0.8100 - acc: 0.7383 - val_loss: 1.4975 - val_acc: 0.4999\n",
            "Epoch 33/50\n",
            "50000/50000 [==============================] - 9s 187us/step - loss: 0.7912 - acc: 0.7462 - val_loss: 1.5051 - val_acc: 0.4953\n",
            "Epoch 34/50\n",
            "50000/50000 [==============================] - 9s 186us/step - loss: 0.7711 - acc: 0.7546 - val_loss: 1.5151 - val_acc: 0.4978\n",
            "Epoch 35/50\n",
            "50000/50000 [==============================] - 9s 186us/step - loss: 0.7534 - acc: 0.7593 - val_loss: 1.5203 - val_acc: 0.4976\n",
            "Epoch 36/50\n",
            "50000/50000 [==============================] - 9s 187us/step - loss: 0.7346 - acc: 0.7670 - val_loss: 1.5141 - val_acc: 0.4997\n",
            "Epoch 37/50\n",
            "50000/50000 [==============================] - 9s 190us/step - loss: 0.7147 - acc: 0.7750 - val_loss: 1.5205 - val_acc: 0.5010\n",
            "Epoch 38/50\n",
            "50000/50000 [==============================] - 9s 186us/step - loss: 0.6972 - acc: 0.7815 - val_loss: 1.5500 - val_acc: 0.4904\n",
            "Epoch 39/50\n",
            "50000/50000 [==============================] - 9s 187us/step - loss: 0.6783 - acc: 0.7895 - val_loss: 1.5502 - val_acc: 0.4963\n",
            "Epoch 40/50\n",
            "50000/50000 [==============================] - 9s 187us/step - loss: 0.6587 - acc: 0.7977 - val_loss: 1.5634 - val_acc: 0.4956\n",
            "Epoch 41/50\n",
            "50000/50000 [==============================] - 9s 187us/step - loss: 0.6428 - acc: 0.8028 - val_loss: 1.5806 - val_acc: 0.4930\n",
            "Epoch 42/50\n",
            "50000/50000 [==============================] - 9s 188us/step - loss: 0.6249 - acc: 0.8090 - val_loss: 1.5676 - val_acc: 0.4894\n",
            "Epoch 43/50\n",
            "50000/50000 [==============================] - 9s 188us/step - loss: 0.6062 - acc: 0.8175 - val_loss: 1.5825 - val_acc: 0.4944\n",
            "Epoch 44/50\n",
            "50000/50000 [==============================] - 9s 187us/step - loss: 0.5871 - acc: 0.8262 - val_loss: 1.5945 - val_acc: 0.4941\n",
            "Epoch 45/50\n",
            "50000/50000 [==============================] - 9s 187us/step - loss: 0.5717 - acc: 0.8314 - val_loss: 1.6074 - val_acc: 0.4915\n",
            "Epoch 46/50\n",
            "50000/50000 [==============================] - 9s 187us/step - loss: 0.5535 - acc: 0.8397 - val_loss: 1.6315 - val_acc: 0.4946\n",
            "Epoch 47/50\n",
            "50000/50000 [==============================] - 9s 187us/step - loss: 0.5373 - acc: 0.8457 - val_loss: 1.6496 - val_acc: 0.4867\n",
            "Epoch 48/50\n",
            "50000/50000 [==============================] - 10s 197us/step - loss: 0.5215 - acc: 0.8510 - val_loss: 1.6462 - val_acc: 0.4903\n",
            "Epoch 49/50\n",
            "50000/50000 [==============================] - 9s 188us/step - loss: 0.5031 - acc: 0.8592 - val_loss: 1.6837 - val_acc: 0.4867\n",
            "Epoch 50/50\n",
            "50000/50000 [==============================] - 9s 188us/step - loss: 0.4892 - acc: 0.8642 - val_loss: 1.6973 - val_acc: 0.4872\n",
            "10000/10000 [==============================] - 2s 208us/step\n"
          ],
          "name": "stdout"
        },
        {
          "output_type": "display_data",
          "data": {
            "image/png": "[encoded data removed]",
            "text/plain": [
              "<Figure size 432x288 with 1 Axes>"
            ]
          },
          "metadata": {
            "tags": []
          }
        },
        {
          "output_type": "display_data",
          "data": {
            "image/png": "[encoded data removed]",
            "text/plain": [
              "<Figure size 432x288 with 1 Axes>"
            ]
          },
          "metadata": {
            "tags": []
          }
        }
      ]
    },
    {
      "metadata": {
        "id": "UezHxY7aN4eE",
        "colab_type": "code",
        "colab": {
          "base_uri": "https://localhost:8080/",
          "height": 34
        },
        "outputId": "1447206f-8627-4231-93a2-ed61a53f9fce"
      },
      "cell_type": "code",
      "source": [
        "model = keras.models.load_model(\"./tmp.h5\")\n",
        "y_pred = model.predict(x_test)\n",
        "\n",
        "_, groundTruth = test\n",
        "\n",
        "import numpy as np\n",
        "accuracy = sum(np.argmax(y_pred, axis=1) == groundTruth.reshape(10000,)) / len(groundTruth)\n",
        "accuracy"
      ],
      "execution_count": 19,
      "outputs": [
        {
          "output_type": "execute_result",
          "data": {
            "text/plain": [
              "0.4872"
            ]
          },
          "metadata": {
            "tags": []
          },
          "execution_count": 19
        }
      ]
    },
    {
      "metadata": {
        "id": "7vcfRNgPQxAB",
        "colab_type": "code",
        "colab": {}
      },
      "cell_type": "code",
      "source": [
        ""
      ],
      "execution_count": 0,
      "outputs": []
    }
  ]
}