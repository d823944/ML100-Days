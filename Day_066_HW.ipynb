{
  "nbformat": 4,
  "nbformat_minor": 0,
  "metadata": {
    "colab": {
      "name": "Day_066_HW.ipynb",
      "version": "0.3.2",
      "provenance": [],
      "collapsed_sections": [],
      "include_colab_link": true
    },
    "kernelspec": {
      "name": "python3",
      "display_name": "Python 3"
    }
  },
  "cells": [
    {
      "cell_type": "markdown",
      "metadata": {
        "id": "view-in-github",
        "colab_type": "text"
      },
      "source": [
        "<a href=\"https://colab.research.google.com/github/d823944/ML100-Days/blob/master/Day_066_HW.ipynb\" target=\"_parent\"><img src=\"https://colab.research.google.com/assets/colab-badge.svg\" alt=\"Open In Colab\"/></a>"
      ]
    },
    {
      "metadata": {
        "id": "AxzFQH2EHCzh",
        "colab_type": "code",
        "colab": {
          "base_uri": "https://localhost:8080/",
          "height": 125
        },
        "outputId": "3fc30da1-3db0-4f7d-d4b4-a59b8146d628"
      },
      "cell_type": "code",
      "source": [
        "from keras.utils import multi_gpu_model\n",
        "from keras.models import Model\n",
        "from keras.layers import Input, Dense\n",
        "\n",
        "\n",
        "a = Input(shape=(32,))\n",
        "b = Dense(32)(a)\n",
        "model = Model(inputs=a, outputs=b)\n",
        "\n",
        "config = model.get_config()\n",
        "print(config)"
      ],
      "execution_count": 1,
      "outputs": [
        {
          "output_type": "stream",
          "text": [
            "Using TensorFlow backend.\n"
          ],
          "name": "stderr"
        },
        {
          "output_type": "stream",
          "text": [
            "WARNING:tensorflow:From /usr/local/lib/python3.6/dist-packages/tensorflow/python/framework/op_def_library.py:263: colocate_with (from tensorflow.python.framework.ops) is deprecated and will be removed in a future version.\n",
            "Instructions for updating:\n",
            "Colocations handled automatically by placer.\n",
            "{'name': 'model_1', 'layers': [{'name': 'input_1', 'class_name': 'InputLayer', 'config': {'batch_input_shape': (None, 32), 'dtype': 'float32', 'sparse': False, 'name': 'input_1'}, 'inbound_nodes': []}, {'name': 'dense_1', 'class_name': 'Dense', 'config': {'name': 'dense_1', 'trainable': True, 'units': 32, 'activation': 'linear', 'use_bias': True, 'kernel_initializer': {'class_name': 'VarianceScaling', 'config': {'scale': 1.0, 'mode': 'fan_avg', 'distribution': 'uniform', 'seed': None}}, 'bias_initializer': {'class_name': 'Zeros', 'config': {}}, 'kernel_regularizer': None, 'bias_regularizer': None, 'activity_regularizer': None, 'kernel_constraint': None, 'bias_constraint': None}, 'inbound_nodes': [[['input_1', 0, 0, {}]]]}], 'input_layers': [['input_1', 0, 0]], 'output_layers': [['dense_1', 0, 0]]}\n"
          ],
          "name": "stdout"
        }
      ]
    },
    {
      "metadata": {
        "id": "0wVcKH6MHN3Q",
        "colab_type": "code",
        "colab": {
          "base_uri": "https://localhost:8080/",
          "height": 212
        },
        "outputId": "f8601ab6-80b4-4ef1-ba72-eb3e4b9d8267"
      },
      "cell_type": "code",
      "source": [
        "model.summary()"
      ],
      "execution_count": 2,
      "outputs": [
        {
          "output_type": "stream",
          "text": [
            "_________________________________________________________________\n",
            "Layer (type)                 Output Shape              Param #   \n",
            "=================================================================\n",
            "input_1 (InputLayer)         (None, 32)                0         \n",
            "_________________________________________________________________\n",
            "dense_1 (Dense)              (None, 32)                1056      \n",
            "=================================================================\n",
            "Total params: 1,056\n",
            "Trainable params: 1,056\n",
            "Non-trainable params: 0\n",
            "_________________________________________________________________\n"
          ],
          "name": "stdout"
        }
      ]
    },
    {
      "metadata": {
        "id": "AGZXx92yHhK2",
        "colab_type": "text"
      },
      "cell_type": "markdown",
      "source": [
        "作業:   \n",
        "檢查 backend   \n",
        "檢查 fuzz factor   \n",
        "設定 Keras 浮點運算為float16   "
      ]
    },
    {
      "metadata": {
        "id": "R4VuA0o8HiMe",
        "colab_type": "code",
        "colab": {
          "base_uri": "https://localhost:8080/",
          "height": 52
        },
        "outputId": "c52a065f-4b6a-4e4a-c061-e7280d7e15e4"
      },
      "cell_type": "code",
      "source": [
        "import keras\n",
        "from keras import backend as K\n",
        "\n",
        "#檢查 backend\n",
        "print(f\"Keras version = {keras.__version__}\")\n",
        "print(f\"Current backend = {K.backend()}\")"
      ],
      "execution_count": 3,
      "outputs": [
        {
          "output_type": "stream",
          "text": [
            "Keras version = 2.2.4\n",
            "Current backend = tensorflow\n"
          ],
          "name": "stdout"
        }
      ]
    },
    {
      "metadata": {
        "id": "oleZsrW1Hb5W",
        "colab_type": "code",
        "colab": {
          "base_uri": "https://localhost:8080/",
          "height": 34
        },
        "outputId": "c537531a-cafb-4830-af7f-adf4b261ed89"
      },
      "cell_type": "code",
      "source": [
        "# 檢查 fuzz factor\n",
        "# tf.keras.backend.epsilon()\n",
        "# Returns the value of the fuzz factor used in numeric expressions.\n",
        "print(f\"fuzz factor = {K.epsilon()}\")"
      ],
      "execution_count": 4,
      "outputs": [
        {
          "output_type": "stream",
          "text": [
            "fuzz factor = 1e-07\n"
          ],
          "name": "stdout"
        }
      ]
    },
    {
      "metadata": {
        "id": "8BWXMbpTI0s9",
        "colab_type": "code",
        "colab": {
          "base_uri": "https://localhost:8080/",
          "height": 52
        },
        "outputId": "2b024d17-2cc0-4b33-fe53-69e28db69239"
      },
      "cell_type": "code",
      "source": [
        "# 設定 Keras 浮點運算為float16\n",
        "print(f\"Original Keras float: {K.floatx()}\")\n",
        "\n",
        "# tf.keras.backend.set_floatx(value)\n",
        "# Sets the default float type.\n",
        "# Arguments:\n",
        "# value: String; 'float16', 'float32', or 'float64'.\n",
        "\n",
        "K.set_floatx('float16')\n",
        "print(f\"Current Keras float: {K.floatx()}\")"
      ],
      "execution_count": 5,
      "outputs": [
        {
          "output_type": "stream",
          "text": [
            "Original Keras float: float32\n",
            "Current Keras float: float16\n"
          ],
          "name": "stdout"
        }
      ]
    },
    {
      "metadata": {
        "id": "kc_nGIqkI-Yv",
        "colab_type": "code",
        "colab": {}
      },
      "cell_type": "code",
      "source": [
        ""
      ],
      "execution_count": 0,
      "outputs": []
    }
  ]
}